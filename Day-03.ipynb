{
 "cells": [
  {
   "cell_type": "code",
   "execution_count": 11,
   "id": "0f8409ce",
   "metadata": {},
   "outputs": [
    {
     "name": "stdout",
     "output_type": "stream",
     "text": [
      "num_1 is largest\n"
     ]
    }
   ],
   "source": [
    "num_1 = 5\n",
    "num_2 = 4\n",
    "num_3 = 3\n",
    "if num_1>num_2:\n",
    "        print(\"num_1 is largest\")\n",
    "elif num_2>num_3:\n",
    "    print(\"num_2 is largest\")\n",
    "else:\n",
    "    print(\"num_3 is largest\")"
   ]
  },
  {
   "cell_type": "code",
   "execution_count": 25,
   "id": "be6f5a1f",
   "metadata": {},
   "outputs": [
    {
     "name": "stdout",
     "output_type": "stream",
     "text": [
      "decending order: num_2 > num_1 > num_3\n"
     ]
    }
   ],
   "source": [
    "num_1 = 5\n",
    "num_2 = 10\n",
    "num_3 = 3\n",
    "if num_1>num_2 and num_1>num_3:\n",
    "    if num_2>num_3:\n",
    "        print(\"decending order: num_1 > num_2 > num_3\")\n",
    "    else:\n",
    "        print(\"decending order: num_1 > num_3 > num_2\")\n",
    "elif num_2>num_1 and num_2>num_3:\n",
    "    if num_1>num_3:\n",
    "        print(\"decending order: num_2 > num_1 > num_3\")\n",
    "    else:\n",
    "        print(\"decending order: num_2 > num_3 > num_1\")\n",
    "else:\n",
    "    if num_1>num_2:\n",
    "        print(\"decending order: num_3 > num_1 > num_2\")\n",
    "    else:\n",
    "        print(\"decending order: num_3 > num_2 > num_1\")"
   ]
  },
  {
   "cell_type": "code",
   "execution_count": null,
   "id": "242eec34",
   "metadata": {},
   "outputs": [
    {
     "name": "stdout",
     "output_type": "stream",
     "text": [
      "5\n"
     ]
    }
   ],
   "source": [
    "absolute_value = n = -5   #Turnary Operator\n",
    "\n",
    "absolute_value = n if n >= 0 else -n\n",
    "print(absolute_value)"
   ]
  },
  {
   "cell_type": "code",
   "execution_count": null,
   "id": "f3c99f7c",
   "metadata": {},
   "outputs": [
    {
     "name": "stdout",
     "output_type": "stream",
     "text": [
      "Value is not 10 or 11\n"
     ]
    }
   ],
   "source": [
    "variabe = 15  #Structural Pattern Matching\n",
    "\n",
    "match variabe:\n",
    "    case 10:\n",
    "        print(\"Value is 10\")\n",
    "    case 11:\n",
    "        print(\"Value is 11\")\n",
    "    case _:\n",
    "        print(\"Value is not 10 or 11\")"
   ]
  },
  {
   "cell_type": "code",
   "execution_count": 45,
   "id": "af81f8ec",
   "metadata": {},
   "outputs": [
    {
     "name": "stdout",
     "output_type": "stream",
     "text": [
      "Friday\n"
     ]
    }
   ],
   "source": [
    "week_day_num = (int(input(\"Enter week day number: \")))  # Structural Pattern Matching - Switch\n",
    "\n",
    "match week_day_num:\n",
    "    case 1:\n",
    "        print(\"Monday\")\n",
    "    case 2:\n",
    "        print(\"Tuesday\")\n",
    "    case 3:\n",
    "        print(\"Wednesday\")\n",
    "    case 4:\n",
    "        print(\"Thursday\")\n",
    "    case 5:\n",
    "        print(\"Friday\")\n",
    "    case 6:\n",
    "        print(\"Saturday\")\n",
    "    case 7:\n",
    "        print(\"Sunday\")\n",
    "    case _:\n",
    "        print(\"Invalid week day number\")"
   ]
  },
  {
   "cell_type": "code",
   "execution_count": null,
   "id": "4943ff31",
   "metadata": {},
   "outputs": [
    {
     "name": "stdout",
     "output_type": "stream",
     "text": [
      "Stop\n"
     ]
    }
   ],
   "source": [
    "command = input(\"Enter command: \")\n",
    "\n",
    "match command:\n",
    "    case \"Green\":\n",
    "        print(\"Start\")\n",
    "    case \"Red\" | \"Blinking\": \n",
    "        print(\"Stop\")\n",
    "    case \"Yellow\":\n",
    "        print(\"Slow down\")\n",
    "    case _:\n",
    "        print(\"Invalid command\")"
   ]
  },
  {
   "cell_type": "code",
   "execution_count": 62,
   "id": "d731f299",
   "metadata": {},
   "outputs": [
    {
     "name": "stdout",
     "output_type": "stream",
     "text": [
      "14\n"
     ]
    }
   ],
   "source": [
    "# Matching by the length of an iterable\n",
    "\n",
    "numbers = [4,3,7]\n",
    "\n",
    "match numbers:\n",
    "    case [x,y]:\n",
    "        print(x*y)\n",
    "    case [x,y,z]:  \n",
    "        print(x+y+z)\n",
    "    case _:\n",
    "        print(\"Invalid list\")"
   ]
  },
  {
   "cell_type": "code",
   "execution_count": 69,
   "id": "cbefcfdf",
   "metadata": {},
   "outputs": [
    {
     "name": "stdout",
     "output_type": "stream",
     "text": [
      "The difference between the sum of the last two readings is -45\n"
     ]
    }
   ],
   "source": [
    "tempreture_readings = [22,21,56,32]\n",
    "\n",
    "match tempreture_readings:\n",
    "    case [x,y] :\n",
    "        print(\"The average is\", x + y  / 2)\n",
    "    case [x,y,z,r]:\n",
    "        print(\"The difference between the sum of the last two readings is\", x + y -( z + r))  #The difference between the sum of the first two readings and last two readings\n",
    "    case _:\n",
    "        print(\"Unsouported number of readings\")\n",
    "    "
   ]
  },
  {
   "cell_type": "code",
   "execution_count": null,
   "id": "5c0824c7",
   "metadata": {},
   "outputs": [
    {
     "name": "stdout",
     "output_type": "stream",
     "text": [
      "12\n",
      "8\n",
      "12\n"
     ]
    }
   ],
   "source": [
    "my_list = [12, 5, 8, 9, 12]     #Loops\n",
    "\n",
    "for item in my_list:\n",
    "    if item % 2 == 0:\n",
    "        print(item)"
   ]
  },
  {
   "cell_type": "code",
   "execution_count": null,
   "id": "cef6d85d",
   "metadata": {},
   "outputs": [
    {
     "name": "stderr",
     "output_type": "stream",
     "text": [
      "<>:4: SyntaxWarning: 'int' object is not subscriptable; perhaps you missed a comma?\n",
      "<>:4: SyntaxWarning: 'int' object is not subscriptable; perhaps you missed a comma?\n",
      "C:\\Users\\Voshadee\\AppData\\Local\\Temp\\ipykernel_12416\\3612913035.py:4: SyntaxWarning: 'int' object is not subscriptable; perhaps you missed a comma?\n",
      "  if item*item == 0 [0:11]:\n"
     ]
    },
    {
     "ename": "TypeError",
     "evalue": "'int' object is not subscriptable",
     "output_type": "error",
     "traceback": [
      "\u001b[31m---------------------------------------------------------------------------\u001b[39m",
      "\u001b[31mTypeError\u001b[39m                                 Traceback (most recent call last)",
      "\u001b[36mCell\u001b[39m\u001b[36m \u001b[39m\u001b[32mIn[2]\u001b[39m\u001b[32m, line 4\u001b[39m\n\u001b[32m      1\u001b[39m squre_values = [\u001b[32m1\u001b[39m,\u001b[32m2\u001b[39m,\u001b[32m3\u001b[39m,\u001b[32m4\u001b[39m,\u001b[32m5\u001b[39m,\u001b[32m6\u001b[39m,\u001b[32m7\u001b[39m,\u001b[32m8\u001b[39m,\u001b[32m9\u001b[39m,\u001b[32m10\u001b[39m]\n\u001b[32m      3\u001b[39m \u001b[38;5;28;01mfor\u001b[39;00m item \u001b[38;5;129;01min\u001b[39;00m squre_values:\n\u001b[32m----> \u001b[39m\u001b[32m4\u001b[39m    \u001b[38;5;28;01mif\u001b[39;00m item*item == \u001b[32;43m0\u001b[39;49m\u001b[43m \u001b[49m\u001b[43m[\u001b[49m\u001b[32;43m0\u001b[39;49m\u001b[43m:\u001b[49m\u001b[32;43m11\u001b[39;49m\u001b[43m]\u001b[49m:\n\u001b[32m      5\u001b[39m       \u001b[38;5;28mprint\u001b[39m(item)\n",
      "\u001b[31mTypeError\u001b[39m: 'int' object is not subscriptable"
     ]
    }
   ],
   "source": [
    "squre_values = [1,2,3,4,5,6,7,8,9,10]\n",
    "\n",
    "for item in squre_values:\n",
    "   if item*item == 0 [0:11]:\n",
    "      print(item)"
   ]
  },
  {
   "cell_type": "code",
   "execution_count": null,
   "id": "7ff5aab1",
   "metadata": {},
   "outputs": [
    {
     "name": "stdout",
     "output_type": "stream",
     "text": [
      "1\n",
      "4\n",
      "9\n",
      "16\n",
      "25\n",
      "36\n",
      "49\n",
      "64\n",
      "81\n",
      "100\n"
     ]
    }
   ],
   "source": [
    "\n",
    "for item in range(1,11):   # ranges in square values\n",
    "    print(item**2)\n"
   ]
  },
  {
   "cell_type": "code",
   "execution_count": 7,
   "id": "7f1e24c4",
   "metadata": {},
   "outputs": [
    {
     "name": "stdout",
     "output_type": "stream",
     "text": [
      "1\n",
      "4\n",
      "9\n",
      "16\n",
      "25\n",
      "36\n",
      "49\n",
      "64\n",
      "81\n",
      "100\n",
      "121\n"
     ]
    }
   ],
   "source": [
    "number = int(input(\"Enter the number: \"))\n",
    "\n",
    "if number < 0 :\n",
    "    print(\"Enter the positive number\")\n",
    "else:\n",
    "  for i in range(1, number):\n",
    "    print(i**2)\n"
   ]
  },
  {
   "cell_type": "code",
   "execution_count": 19,
   "id": "b311f9e0",
   "metadata": {},
   "outputs": [
    {
     "name": "stdout",
     "output_type": "stream",
     "text": [
      "1\n",
      "4\n",
      "9\n",
      "16\n",
      "25\n",
      "36\n",
      "49\n",
      "64\n"
     ]
    }
   ],
   "source": [
    "number = int(input(\"Enter the number: \"))\n",
    "\n",
    "for number in range(1, number + 1 ):\n",
    "    print(number**2)"
   ]
  },
  {
   "cell_type": "code",
   "execution_count": 4,
   "id": "8515c41c",
   "metadata": {},
   "outputs": [
    {
     "name": "stdout",
     "output_type": "stream",
     "text": [
      "1\n"
     ]
    }
   ],
   "source": [
    "number = int(input(\"Enter the number: \"))  # \n",
    "\n",
    "if number <= 0 :\n",
    "    print(\"Enter a positive number\")\n",
    "else:\n",
    "    for i in range(1,number):\n",
    "        squre_value = i**2\n",
    "        if squre_value < number :\n",
    "            print(squre_value)\n",
    "        else:\n",
    "            break"
   ]
  },
  {
   "cell_type": "code",
   "execution_count": 6,
   "id": "9a0f216b",
   "metadata": {},
   "outputs": [
    {
     "name": "stdout",
     "output_type": "stream",
     "text": [
      "Found\n"
     ]
    }
   ],
   "source": [
    "my_list = [1,10,20,30,40,50,60,70,80,90,100]\n",
    "\n",
    "target = 20\n",
    "\n",
    "if 20 in my_list:\n",
    "    print(\"Found\")\n",
    "else:\n",
    "    print(\"Not found\")"
   ]
  },
  {
   "cell_type": "code",
   "execution_count": null,
   "id": "41bb614f",
   "metadata": {},
   "outputs": [
    {
     "name": "stdout",
     "output_type": "stream",
     "text": [
      "Not found\n"
     ]
    }
   ],
   "source": [
    "number = int(input(\"Enter the number: \"))\n",
    "\n",
    "my_list = [1,10,20,30,40,50,60,70,80,90,100]  \n",
    "\n",
    "found = False\n",
    "\n",
    "target = number\n",
    "\n",
    "for number in my_list:\n",
    "    if number == target:\n",
    "        print(\"Found\")\n",
    "        found = True\n",
    "        \n",
    "if not found:\n",
    "    print(\"Not found\")  # we can use if key word with for,while loops alsoo"
   ]
  },
  {
   "cell_type": "code",
   "execution_count": null,
   "id": "a7d15106",
   "metadata": {},
   "outputs": [
    {
     "name": "stdout",
     "output_type": "stream",
     "text": [
      "90\n"
     ]
    }
   ],
   "source": [
    "\n",
    "my_list = [1,-10,20,30,40,-50,60,70,80,90,-100] \n",
    "\n",
    " #finds the maximum number\n",
    "\n",
    "max_num = my_list[0]\n",
    "for i in my_list:\n",
    "    if i > max_num:\n",
    "        max_num = i\n",
    "print(max_num)"
   ]
  },
  {
   "cell_type": "code",
   "execution_count": 37,
   "id": "821adbb9",
   "metadata": {},
   "outputs": [
    {
     "ename": "NameError",
     "evalue": "name 'iterable' is not defined",
     "output_type": "error",
     "traceback": [
      "\u001b[31m---------------------------------------------------------------------------\u001b[39m",
      "\u001b[31mNameError\u001b[39m                                 Traceback (most recent call last)",
      "\u001b[36mCell\u001b[39m\u001b[36m \u001b[39m\u001b[32mIn[37]\u001b[39m\u001b[32m, line 1\u001b[39m\n\u001b[32m----> \u001b[39m\u001b[32m1\u001b[39m results = [expression \u001b[38;5;28;01mfor\u001b[39;00m item \u001b[38;5;129;01min\u001b[39;00m \u001b[43miterable\u001b[49m \u001b[38;5;28;01mif\u001b[39;00m condition]\n",
      "\u001b[31mNameError\u001b[39m: name 'iterable' is not defined"
     ]
    }
   ],
   "source": [
    "results = [expression for item in iterable if condition]"
   ]
  },
  {
   "cell_type": "code",
   "execution_count": 39,
   "id": "e1e42cc1",
   "metadata": {},
   "outputs": [
    {
     "name": "stdout",
     "output_type": "stream",
     "text": [
      "[25, 100, 144, 64, 49]\n"
     ]
    }
   ],
   "source": [
    "## results = [expression for item in iterable if condition]\n",
    "\n",
    "my_list = [5,10,12,8,7]\n",
    "\n",
    "results = [item ** 2 for item in my_list]\n",
    "\n",
    "print(results)"
   ]
  },
  {
   "cell_type": "code",
   "execution_count": null,
   "id": "fdbbd268",
   "metadata": {},
   "outputs": [
    {
     "name": "stdout",
     "output_type": "stream",
     "text": [
      "[4, 16, 36, 64, 100]\n"
     ]
    }
   ],
   "source": [
    "#list comprehension(between 1 -10)\n",
    "\n",
    "results = [item ** 2 for item in range(1,11) if item % 2 == 0]\n",
    "\n",
    "print(results)"
   ]
  },
  {
   "cell_type": "code",
   "execution_count": null,
   "id": "7d4f4455",
   "metadata": {},
   "outputs": [
    {
     "name": "stdout",
     "output_type": "stream",
     "text": [
      "[1, 2, 3, 4, 5, 6, 7, 8, 9, 10, 11, 12, 13, 14, 15, 16, 17, 18, 19, 20]\n"
     ]
    }
   ],
   "source": [
    "number = int(input(\"Enter the number: \"))\n",
    "\n",
    "#all positive integers which are below the number in while loop\n",
    "\n",
    "while number < 0:\n",
    "    print(\"Enter a positive number\")\n",
    "    number = int(input(\"Enter the number: \"))\n",
    "else:\n",
    "    results = [item ** 2 for item in range(1,number)]\n",
    "print(results)"
   ]
  },
  {
   "cell_type": "code",
   "execution_count": null,
   "id": "7bac05fa",
   "metadata": {},
   "outputs": [],
   "source": [
    "number = int(input(\"Enter the number: \"))\n",
    "\n",
    "#all positive integers which are below the number in while loop\n",
    "if number <= 0:\n",
    "    print(\"Enter a positive number\")\n",
    "else:\n",
    "    count = 1\n",
    "    while count > number:\n",
    "        print(count)\n",
    "        count += 1\n",
    "    "
   ]
  },
  {
   "cell_type": "code",
   "execution_count": 3,
   "id": "1233feba",
   "metadata": {},
   "outputs": [
    {
     "name": "stdout",
     "output_type": "stream",
     "text": [
      "1\n",
      "2\n",
      "3\n",
      "4\n",
      "5\n",
      "6\n",
      "7\n",
      "8\n",
      "9\n",
      "10\n",
      "11\n",
      "12\n",
      "13\n",
      "14\n",
      "15\n",
      "16\n",
      "17\n",
      "18\n",
      "19\n",
      "20\n",
      "21\n",
      "22\n",
      "23\n",
      "24\n",
      "25\n",
      "26\n",
      "27\n",
      "28\n",
      "29\n",
      "30\n",
      "31\n",
      "32\n",
      "33\n",
      "34\n",
      "35\n",
      "36\n",
      "37\n",
      "38\n",
      "39\n",
      "40\n",
      "41\n",
      "42\n",
      "43\n",
      "44\n",
      "45\n",
      "46\n",
      "47\n",
      "48\n",
      "49\n",
      "50\n",
      "51\n",
      "52\n",
      "53\n",
      "54\n",
      "55\n"
     ]
    }
   ],
   "source": [
    "n = int(input(\"Enter the number: \"))   \n",
    "#all positive integers which are below the number in while loop\n",
    "count = 0        \n",
    "while count < n-1:\n",
    "    count += 1\n",
    "    print(count)"
   ]
  },
  {
   "cell_type": "code",
   "execution_count": 4,
   "id": "31cf720b",
   "metadata": {},
   "outputs": [
    {
     "name": "stdout",
     "output_type": "stream",
     "text": [
      "8765\n"
     ]
    }
   ],
   "source": [
    "n = int(input(\"Enter the number: \"))  \n",
    "rev_num = 0\n",
    "\n",
    "while n > 0:\n",
    "    rem = n % 10\n",
    "    rev_num = rev_num * 10 + rem\n",
    "    n = n // 10\n",
    "print(rev_num)"
   ]
  }
 ],
 "metadata": {
  "kernelspec": {
   "display_name": "Python 3",
   "language": "python",
   "name": "python3"
  },
  "language_info": {
   "codemirror_mode": {
    "name": "ipython",
    "version": 3
   },
   "file_extension": ".py",
   "mimetype": "text/x-python",
   "name": "python",
   "nbconvert_exporter": "python",
   "pygments_lexer": "ipython3",
   "version": "3.13.3"
  }
 },
 "nbformat": 4,
 "nbformat_minor": 5
}
