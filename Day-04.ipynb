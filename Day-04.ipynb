{
 "cells": [
  {
   "cell_type": "code",
   "execution_count": 2,
   "id": "b8d9846a",
   "metadata": {},
   "outputs": [
    {
     "name": "stdout",
     "output_type": "stream",
     "text": [
      "8\n"
     ]
    }
   ],
   "source": [
    "def add_numbers(a,b):\n",
    "  return a + b\n",
    "print(add_numbers(3, 5))\n"
   ]
  },
  {
   "cell_type": "code",
   "execution_count": null,
   "id": "1f971dfd",
   "metadata": {},
   "outputs": [
    {
     "name": "stdout",
     "output_type": "stream",
     "text": [
      "7\n"
     ]
    }
   ],
   "source": [
    "#Q1) write a function \"count_even_numbers(my_list)\" that takes a list of integers and returns the count of even numbers in the list.\n",
    "\n",
    "def count_even_numbers(my_list):\n",
    "    count = 0\n",
    "    for number in my_list:\n",
    "     if number % 2 == 0:\n",
    "            count += 1\n",
    "\n",
    "    return count\n",
    "\n",
    "my_list = [22,76,33,21,50,40,11,9,8,10,12]\n",
    "\n",
    "even_count = count_even_numbers(my_list)\n",
    "print(even_count)\n",
    "\n",
    "   \n",
    "  "
   ]
  },
  {
   "cell_type": "code",
   "execution_count": null,
   "id": "e7b25c9d",
   "metadata": {},
   "outputs": [
    {
     "name": "stdout",
     "output_type": "stream",
     "text": [
      "10\n"
     ]
    }
   ],
   "source": [
    "#Q2) write a function find_max(lst) that takes a list of numbers and returns the maximum value(without using the built-in max function) in the list.\n",
    "\n",
    "lst = [1, 2, 3, 4, 5, 6, 7, 8, 9, 10]\n",
    "def find_max(lst):\n",
    "    max_value = lst[0]  \n",
    "    for num in lst:\n",
    "        if num > max_value:\n",
    "            max_value = num   \n",
    "    return max_value\n",
    "print(find_max(lst))\n",
    "    \n"
   ]
  },
  {
   "cell_type": "code",
   "execution_count": null,
   "id": "0aed82b4",
   "metadata": {},
   "outputs": [
    {
     "name": "stdout",
     "output_type": "stream",
     "text": [
      "[1, 2, 3, 4, 5, 6, 7, 8]\n"
     ]
    }
   ],
   "source": [
    "#Q3) write a function name \"remove_duplicates(lst)\" that returns a list with duplicates removed.(preserving the original order)\n",
    "\n",
    "lst = [1, 2, 3, 2, 4, 5, 1, 6, 7, 8, 5]\n",
    "def remove_duplicates(lst):\n",
    "    new_list = []  # Initialize an empty list to store unique elements\n",
    "    for num in lst:\n",
    "        if num not in new_list:\n",
    "            new_list.append(num)  # Only add the number if it's not already in new_list\n",
    "          \n",
    "\n",
    "\n",
    "    return new_list\n",
    "print(remove_duplicates(lst))\n",
    "\n",
    "\n"
   ]
  },
  {
   "cell_type": "code",
   "execution_count": null,
   "id": "54e4c330",
   "metadata": {},
   "outputs": [
    {
     "name": "stdout",
     "output_type": "stream",
     "text": [
      "3628800\n"
     ]
    }
   ],
   "source": [
    "#Q4) write a function \"factorial(n)\" that returns the factorial of a given number n.\n",
    "\n",
    "def factorial(n):\n",
    "    num = 1 \n",
    "    for i in range(1,n+1): \n",
    "        num *= i  \n",
    "    return num\n",
    "\n",
    "\n",
    "print(factorial(n=10))   #next code is the correct one,,this is my misktake of writing the code,this is not check the 0r 1"
   ]
  },
  {
   "cell_type": "code",
   "execution_count": 53,
   "id": "7dea7610",
   "metadata": {},
   "outputs": [
    {
     "name": "stdout",
     "output_type": "stream",
     "text": [
      "3628800\n"
     ]
    }
   ],
   "source": [
    "#Q4) \n",
    "\n",
    "def factorial(n):\n",
    "    if n == 0 or n == 1:\n",
    "        return 1\n",
    "    else:\n",
    "       \n",
    "     num = 1 \n",
    "     for i in range(1,n+1): \n",
    "        num *= i  \n",
    "    return num\n",
    "\n",
    "num = 10\n",
    "print(factorial(num))  # This will print the factorial of 10, which is\n"
   ]
  },
  {
   "cell_type": "code",
   "execution_count": null,
   "id": "37bf8511",
   "metadata": {},
   "outputs": [
    {
     "name": "stdout",
     "output_type": "stream",
     "text": [
      "9\n",
      "11\n"
     ]
    }
   ],
   "source": [
    "#Arguments and Parameters\n",
    "def add_numbers(a,b=8):\n",
    "    return a + b\n",
    "print(add_numbers(3, 6))  # This will print 8  (Positional argument)\n",
    "print(add_numbers(3))  # This will use the default value of b, which is 8 (Default argument)\n",
    "\n",
    "    "
   ]
  },
  {
   "cell_type": "code",
   "execution_count": null,
   "id": "977c79fb",
   "metadata": {},
   "outputs": [
    {
     "name": "stdout",
     "output_type": "stream",
     "text": [
      "81\n",
      "9\n"
     ]
    }
   ],
   "source": [
    "#Q5) Write a function that calculates and returns the value of a number raised to a certain power.The function should accept tow arguments: the number \n",
    "#and the exponent.if the exponent is not provided, it should calculate the square of the number.\n",
    "#is not provided, it should calculate the square of the number.\n",
    "\n",
    "def power(number, exponent=2):\n",
    "    return number ** exponent\n",
    "\n",
    "   \n",
    "    \n",
    "print(power(3, 4)) \n",
    "print(power(3))"
   ]
  },
  {
   "cell_type": "code",
   "execution_count": null,
   "id": "581b5824",
   "metadata": {},
   "outputs": [
    {
     "name": "stdout",
     "output_type": "stream",
     "text": [
      "a: 3\n",
      "b: 6\n",
      "a: 4\n",
      "b: 6\n"
     ]
    }
   ],
   "source": [
    "# Keyword Arguments ,, we don not have remember the order of the arguments..\n",
    "def display_numbers(a,b):\n",
    "    print (\"a:\", a)\n",
    "    print (\"b:\", b)\n",
    "\n",
    "display_numbers(b = 6, a = 3)  # This will print a: 3 and b: 6 (Keyword arguments)\n",
    "display_numbers(a = 4, b = 6)  # This will print a: 3 and b: 6 (Keyword arguments)"
   ]
  },
  {
   "cell_type": "code",
   "execution_count": null,
   "id": "fd749dfe",
   "metadata": {},
   "outputs": [
    {
     "name": "stdout",
     "output_type": "stream",
     "text": [
      "21600.0\n",
      "58500.0\n",
      "44200.0\n",
      "45900.0\n",
      "24000.0\n"
     ]
    }
   ],
   "source": [
    "#Q6) Write a function that calculates and employees net salary.The function should accept base salary,bonus(default to 0),and tax rate(default to 10%).\n",
    "#The net salary is calculated by adding the bonus to the base salary and substracting the tax.\n",
    "#Demonstrate different ways of calling this function,using positional and keyword arguments.\n",
    "\n",
    "def calculate_net_salary(base_salary, bonus=0, tax_rate = 0.1):\n",
    "    total_salary = base_salary + bonus\n",
    "    tax = total_salary * tax_rate\n",
    "    net_salary = total_salary - tax    # total_salary - (total_salary * tax_rate)\n",
    "    return net_salary\n",
    "\n",
    "print(calculate_net_salary(24000)) \n",
    "print(calculate_net_salary(60000, 5000))  \n",
    "\n",
    "print(calculate_net_salary(base_salary=50000, bonus=2000, tax_rate=0.15))\n",
    "print(calculate_net_salary(base_salary=50000, tax_rate=0.15, bonus=4000, ))\n",
    "print(calculate_net_salary(30000, tax_rate=0.2))  # Using keyword argument for tax_rate\n",
    "\n",
    "#==============================================================end exam quastions========================================================================================================================================="
   ]
  },
  {
   "cell_type": "code",
   "execution_count": null,
   "id": "953a1f82",
   "metadata": {},
   "outputs": [
    {
     "name": "stdout",
     "output_type": "stream",
     "text": [
      "(1, 2, 3, 4, 5)\n",
      "<class 'tuple'>\n",
      "1\n",
      "<class 'int'>\n",
      "2\n",
      "<class 'int'>\n",
      "3\n",
      "<class 'int'>\n",
      "4\n",
      "<class 'int'>\n",
      "5\n",
      "<class 'int'>\n"
     ]
    }
   ],
   "source": [
    "#Arbritrary Positional   Arguments\n",
    "\n",
    "def arbritary_positional_arguments(*args):\n",
    "    print(args)\n",
    "    print(type(args))\n",
    "    \n",
    "    for arg in args:\n",
    "        print(arg)\n",
    "        print(type(arg))\n",
    "\n",
    "arbritary_positional_arguments(1, 2, 3, 4, 5)  # This will print a tuple of the arguments,,we can do any operations here...\n",
    "\n",
    "#this is used to pass a variable number of arguments to a function.\n",
    "#when we do not previously know how many arguments will be passed to the function, we can use this.\n",
    "    "
   ]
  },
  {
   "cell_type": "code",
   "execution_count": 83,
   "id": "224c67f7",
   "metadata": {},
   "outputs": [
    {
     "name": "stdout",
     "output_type": "stream",
     "text": [
      "24\n",
      "1\n"
     ]
    }
   ],
   "source": [
    "#Q7) Write a function  \"multyply_all()\" that accepts any number of numebers and returns their product.If no numbers are provided, return one.\n",
    "\n",
    "def multiply_all(*args):\n",
    "    num = 1 \n",
    "    for number in args:\n",
    "        num *= number \n",
    "    \n",
    "    return num \n",
    "\n",
    "print(multiply_all(2, 3, 4)) \n",
    "print(multiply_all())  "
   ]
  },
  {
   "cell_type": "code",
   "execution_count": null,
   "id": "461b1a97",
   "metadata": {},
   "outputs": [
    {
     "name": "stdout",
     "output_type": "stream",
     "text": [
      "name\n",
      "age\n",
      "city\n",
      "John\n",
      "30\n",
      "New York\n",
      "key: name , value: John\n",
      "key: age , value: 30\n",
      "key: city , value: New York\n"
     ]
    }
   ],
   "source": [
    "\n",
    "\n",
    "dict = {\"name\" : \"John\", \"age\" : 30, \"city\" : \"New York\"}\n",
    "\n",
    "for key in dict.keys():  # this will print the keys\n",
    "    print(key)\n",
    "\n",
    "for value in dict.values(): # this will print the values\n",
    "    print(value)\n",
    "\n",
    "for key, value in dict.items():  # this will print the keys and values\n",
    "    print(\"key:\",key, \", value:\",value)"
   ]
  },
  {
   "cell_type": "code",
   "execution_count": 93,
   "id": "fa8fa509",
   "metadata": {},
   "outputs": [
    {
     "name": "stdout",
     "output_type": "stream",
     "text": [
      "{'name': 'John', 'age': 30, 'city': 'New York'}\n",
      "<class 'dict'>\n",
      "name : John\n",
      "age : 30\n",
      "city : New York\n"
     ]
    }
   ],
   "source": [
    "#Arbitrary Keyword Arguments\n",
    "\n",
    "def arbitrary_keyword_arguments(**kwargs):\n",
    "\n",
    "    print(kwargs)\n",
    "    print(type(kwargs))\n",
    "    for key, value in kwargs.items():\n",
    "        print(key, \":\", value)\n",
    "    \n",
    "arbitrary_keyword_arguments(name=\"John\", age=30, city=\"New York\")  # This will print a dictionary of the arguments\n",
    "\n",
    "\n",
    "\n",
    "                             "
   ]
  },
  {
   "cell_type": "code",
   "execution_count": null,
   "id": "47484b20",
   "metadata": {},
   "outputs": [
    {
     "name": "stdout",
     "output_type": "stream",
     "text": [
      "{'student_1': 'Lakhini', 'student_2': 'Dinithi', 'student_3': 'Shachiru', 'student_4': 'Kavindi', 'student_5': 'Achini'}\n",
      "student_1 : Lakhini\n",
      "student_2 : Dinithi\n",
      "student_3 : Shachiru\n",
      "student_4 : Kavindi\n",
      "student_5 : Achini\n"
     ]
    }
   ],
   "source": [
    "# Q8) You are developing a student management system,\n",
    "# 1. Write a function \"add_students()\" which accepts any number of keyword arguments where keys are student ids and values are student names.\n",
    "# 2. The function should store all students into a dictionary.\n",
    "# 3. Write another function \"display_students()\" which accepts the dictionary and prints all students ids and names in a need format.\n",
    "# 4. Demonstrate your function by adding at least 5 students using keywords arguments and displaying them.\n",
    "\n",
    "#1,2\n",
    "def add_students(**kwargs):\n",
    "    students = {} \n",
    "    for key, value in kwargs.items():\n",
    "        students[key] = value \n",
    "    return students\n",
    "\n",
    "#3,4\n",
    "\n",
    "def display_students(students):\n",
    "    for student_id, student_name in students.items():\n",
    "    \n",
    "      print(student_id, \":\", student_name)\n",
    "\n",
    "\n",
    "students = add_students(student_1 = \"Lakhini\", student_2 = \"Dinithi\" , student_3 = \"Shachiru\", student_4 = \"Kavindi\", student_5 = \"Achini\")\n",
    "print(students)\n",
    "\n",
    "display_students(students)\n",
    "\n"
   ]
  },
  {
   "cell_type": "code",
   "execution_count": 110,
   "id": "b45a4537",
   "metadata": {},
   "outputs": [
    {
     "name": "stdout",
     "output_type": "stream",
     "text": [
      "10\n"
     ]
    }
   ],
   "source": [
    "# Python Built-in Functions\n",
    "\n",
    "print(abs(-10))  # This will print the absolute value of -10, which is 10\n"
   ]
  },
  {
   "cell_type": "code",
   "execution_count": null,
   "id": "671aaf36",
   "metadata": {},
   "outputs": [
    {
     "name": "stdout",
     "output_type": "stream",
     "text": [
      "[4, 9, 16, 25, 81]\n"
     ]
    }
   ],
   "source": [
    "#map function (applies a function to all items in an input list)\n",
    "\n",
    "my_list = [2,3,4,5,9]\n",
    "\n",
    "def find_square(x):\n",
    "    return x ** 2\n",
    "square_values = map(find_square, my_list)  # This will apply the find_square function to each element in my_list\n",
    "print(list(square_values))  # This will print the list of square values"
   ]
  },
  {
   "cell_type": "code",
   "execution_count": 123,
   "id": "9d3bf2de",
   "metadata": {},
   "outputs": [
    {
     "name": "stdout",
     "output_type": "stream",
     "text": [
      "[32.0, 68.0, 98.6, 212.0, 14.0]\n"
     ]
    }
   ],
   "source": [
    "#Q9) You are given a list of tempretures in Celsius. \n",
    "#celsious_values = [0,20,37,100,-10]\n",
    "# Write a python function that converts this list into Fahrenheit using the formula: F = C * 9/5 + 32.\n",
    "    #1. Use the map function to perform the conversion.\n",
    "    #2. Return the list of Fahrenheit values.\n",
    "\n",
    "celsious_values = [0,20,37,100,-10]\n",
    "\n",
    "def celsious_to_fahrenheit(celsius):\n",
    "    return celsius * 9/5 + 32\n",
    "    \n",
    "\n",
    "def celsius_to_fahrenheit(celsius):\n",
    "    return list(map(celsious_to_fahrenheit, celsius))\n",
    "\n",
    "celsious_values = celsius_to_fahrenheit(celsious_values)\n",
    "print(list(celsious_values))"
   ]
  },
  {
   "cell_type": "code",
   "execution_count": null,
   "id": "8c6dc947",
   "metadata": {},
   "outputs": [
    {
     "name": "stdout",
     "output_type": "stream",
     "text": [
      "[2, 4, 10, 12, 14, 16, 18, 20]\n"
     ]
    }
   ],
   "source": [
    "#Q) filter function (filters elements from a list based on a condition)\n",
    "\n",
    "my_list = [2,3,4,5,9,10,12,14,16,18,20]\n",
    "\n",
    "def is_even(x):\n",
    "    return x % 2 == 0\n",
    "\n",
    "\n",
    "even_values = filter(is_even, my_list) \n",
    "print(list(even_values)) "
   ]
  },
  {
   "cell_type": "code",
   "execution_count": null,
   "id": "8e60d02e",
   "metadata": {},
   "outputs": [
    {
     "name": "stdout",
     "output_type": "stream",
     "text": [
      "8\n"
     ]
    }
   ],
   "source": [
    "#Python Lambda Functions (Anonymous functions)\n",
    "\n",
    "add = lambda x, y: x + y  # This is a lambda function that adds two numbers\n",
    "print(add(3, 5))  "
   ]
  },
  {
   "cell_type": "code",
   "execution_count": null,
   "id": "49a09669",
   "metadata": {},
   "outputs": [
    {
     "name": "stdout",
     "output_type": "stream",
     "text": [
      "13\n"
     ]
    }
   ],
   "source": [
    "print( (lambda x, y: x + y)(6,7)) # This is a lambda function that adds two numbers(to use this to call directly without assigning to a variable)"
   ]
  },
  {
   "cell_type": "code",
   "execution_count": null,
   "id": "2481d1ed",
   "metadata": {},
   "outputs": [
    {
     "name": "stdout",
     "output_type": "stream",
     "text": [
      "[2, 4, 6, 8, 10]\n"
     ]
    }
   ],
   "source": [
    "#Q10) Given a list of integers, use a map with a Lambda function to create a new list where each number is doubled.\n",
    "\n",
    "my_list = [1, 2, 3, 4, 5]\n",
    "print(list(map(lambda x: x * 2, my_list)))\n"
   ]
  },
  {
   "cell_type": "code",
   "execution_count": 136,
   "id": "077076ad",
   "metadata": {},
   "outputs": [
    {
     "name": "stdout",
     "output_type": "stream",
     "text": [
      "[12, 18, 22, 16]\n"
     ]
    }
   ],
   "source": [
    "#Q11) You are giving the following list of integers:\n",
    "#   numbers = [12,18,17,15,22,23,16]\n",
    "\n",
    "# Write a python program that use the filter function with a Lambda function to remove all odd numbers from the list.\n",
    "\n",
    "numbers = [12,18,17,15,22,23,16]\n",
    "\n",
    "print(list(filter(lambda x: x%2 == 0, numbers)))\n",
    "\n"
   ]
  },
  {
   "cell_type": "code",
   "execution_count": 138,
   "id": "3b2433a1",
   "metadata": {},
   "outputs": [
    {
     "name": "stdout",
     "output_type": "stream",
     "text": [
      "53\n"
     ]
    }
   ],
   "source": [
    "#Q12) Write a python program with a lambda function to decide the largest between two numbers.\n",
    "\n",
    "print((lambda x, y: x if x > y else y)(12,53))"
   ]
  }
 ],
 "metadata": {
  "kernelspec": {
   "display_name": "Python 3",
   "language": "python",
   "name": "python3"
  },
  "language_info": {
   "codemirror_mode": {
    "name": "ipython",
    "version": 3
   },
   "file_extension": ".py",
   "mimetype": "text/x-python",
   "name": "python",
   "nbconvert_exporter": "python",
   "pygments_lexer": "ipython3",
   "version": "3.13.3"
  }
 },
 "nbformat": 4,
 "nbformat_minor": 5
}
