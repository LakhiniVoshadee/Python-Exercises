{
 "cells": [
  {
   "cell_type": "code",
   "execution_count": null,
   "id": "a348ce15",
   "metadata": {},
   "outputs": [
    {
     "data": {
      "text/plain": [
       "25"
      ]
     },
     "execution_count": 2,
     "metadata": {},
     "output_type": "execute_result"
    }
   ],
   "source": [
    "#sum() function - Returns the sum of all items in an iterable\n",
    "\n",
    "my_list = [1, 2, 3, 4, 5]\n",
    "sum(my_list)\n",
    "sum(my_list, 10)  # add to the sum 10"
   ]
  },
  {
   "cell_type": "code",
   "execution_count": 1,
   "id": "f65bfc85",
   "metadata": {},
   "outputs": [
    {
     "name": "stdout",
     "output_type": "stream",
     "text": [
      "True\n",
      "False\n",
      "True\n"
     ]
    }
   ],
   "source": [
    "#isinstance() function - Returns True if the object is an instance of the specified class or data type\n",
    "\n",
    "x = 10\n",
    "print(isinstance(x, int))  \n",
    "print(isinstance(x, str))  \n",
    "print(isinstance(x, (int, float)))  # Check if x is an int or float"
   ]
  },
  {
   "cell_type": "code",
   "execution_count": null,
   "id": "0c464290",
   "metadata": {},
   "outputs": [
    {
     "name": "stdout",
     "output_type": "stream",
     "text": [
      "my name is John and I am 30 years old\n",
      "my name is John and I am 30 years old\n"
     ]
    }
   ],
   "source": [
    "#f-strings - Formatted string literals, prefixed with 'f' or 'F'\n",
    "\n",
    "name = \"John\"\n",
    "age = 30\n",
    "print(\"my name is\", name, \"and I am\", age, \"years old\") # This is less readable and less efficient\n",
    "\n",
    "print(f\"my name is {name} and I am {age} years old\") # This is more readable and efficient"
   ]
  },
  {
   "cell_type": "code",
   "execution_count": null,
   "id": "d74608cb",
   "metadata": {},
   "outputs": [
    {
     "name": "stdout",
     "output_type": "stream",
     "text": [
      "3.141592653589793\n"
     ]
    }
   ],
   "source": [
    "#math module - Provides access to mathematical functions and constants\n",
    "\n",
    "import math\n",
    "\n",
    "print(math.pi)  "
   ]
  },
  {
   "cell_type": "code",
   "execution_count": 21,
   "id": "7657a45b",
   "metadata": {},
   "outputs": [
    {
     "name": "stdout",
     "output_type": "stream",
     "text": [
      "24\n"
     ]
    }
   ],
   "source": [
    "import math as m\n",
    "\n",
    "print(m.factorial(4))  "
   ]
  },
  {
   "cell_type": "code",
   "execution_count": null,
   "id": "30751baf",
   "metadata": {},
   "outputs": [
    {
     "name": "stdout",
     "output_type": "stream",
     "text": [
      "48\n",
      "65\n"
     ]
    }
   ],
   "source": [
    " # Generate a random integer between 1 and 100\n",
    "import random\n",
    "\n",
    "print(random.randint(1, 100))   \n",
    "print(random.randrange(1, 101))   # Generate a random integer between 1 and 100, inclusive\n"
   ]
  },
  {
   "cell_type": "code",
   "execution_count": 2,
   "id": "4ceb6236",
   "metadata": {},
   "outputs": [
    {
     "name": "stdout",
     "output_type": "stream",
     "text": [
      "John\n",
      "30\n"
     ]
    }
   ],
   "source": [
    "class Student:\n",
    "    name = \"John\"\n",
    "    age = 30\n",
    "\n",
    "print(Student.name)  # Access class variable\n",
    "print(Student.age)   # Access class variable"
   ]
  },
  {
   "cell_type": "code",
   "execution_count": 4,
   "id": "02322f42",
   "metadata": {},
   "outputs": [
    {
     "name": "stdout",
     "output_type": "stream",
     "text": [
      "John\n",
      "30\n"
     ]
    }
   ],
   "source": [
    "class Student:\n",
    "    name = \"John\"\n",
    "    age = 30\n",
    "\n",
    "student_1 = Student()\n",
    "print(student_1.name)  # Access instance variable\n",
    "print(student_1.age)   # Access instance variable"
   ]
  },
  {
   "cell_type": "code",
   "execution_count": null,
   "id": "5844efd5",
   "metadata": {},
   "outputs": [
    {
     "name": "stdout",
     "output_type": "stream",
     "text": [
      "This car has 4 wheels.\n",
      "This car is driving to be Colombo on 4 wheels.\n"
     ]
    }
   ],
   "source": [
    "class Car:\n",
    "    wheels = 4  # Class attribute\n",
    "\n",
    "    def display_info(self):\n",
    "        print(f\"This car has {self.wheels} wheels.\")\n",
    "    def drive_to(self,destination):\n",
    "        print(f\"This car is driving to be {destination} on {self.wheels} wheels.\") # Access instance variable\n",
    "car_1 = Car()\n",
    "car_1.display_info() \n",
    "car_1.drive_to(\"Colombo\")  "
   ]
  },
  {
   "cell_type": "code",
   "execution_count": 21,
   "id": "6bea6483",
   "metadata": {},
   "outputs": [
    {
     "name": "stdout",
     "output_type": "stream",
     "text": [
      "constructor has been called\n"
     ]
    }
   ],
   "source": [
    "class Car:\n",
    "    wheels = 4  # Class attribute\n",
    "\n",
    "    def __init__(self, brand, color):\n",
    "      print(\"constructor has been called\")\n",
    "      self.brand = brand\n",
    "      self.color = color\n",
    "\n",
    "\n",
    "car_1 = Car(\"Toyota\", \"red\")\n",
    "\n",
    "\n"
   ]
  },
  {
   "cell_type": "code",
   "execution_count": 33,
   "id": "c992aa49",
   "metadata": {},
   "outputs": [
    {
     "name": "stdout",
     "output_type": "stream",
     "text": [
      "Blue color BMW drives to the beach\n",
      "Blue color BMW runs on 4 wheels and drives to Beach\n"
     ]
    }
   ],
   "source": [
    "# red color toyota drives to the beach\n",
    "# red color toyota runs on 4 wheels\n",
    "class Car:\n",
    "    wheels = 4  \n",
    "\n",
    "    def __init__(self, brand, color):\n",
    "        self.brand = brand\n",
    "        self.color = color\n",
    "        print(f\"{self.color} color {self.brand} drives to the beach\")\n",
    "    \n",
    "    def drive_to(self, destination):\n",
    "        print(f\"{self.color} color {self.brand} runs on {self.wheels} wheels and drives to {destination}\") \n",
    "\n",
    "car_1 = Car(\"BMW\", \"Blue\")\n",
    "car_1.drive_to(\"Beach\")\n"
   ]
  },
  {
   "cell_type": "code",
   "execution_count": null,
   "id": "3111d7a9",
   "metadata": {},
   "outputs": [],
   "source": [
    "# You are ask to define a python class named \"Rectangle\" that models a rectangle using oop principles.\n",
    "# The class should be initialized with two parameters: \"length\" and \"width\".\n",
    "# It must include the method area() that returns the area of the rectangle and another method get_perimeter()\n",
    "# that returns its perimeter.Additionaly, implement and instance methods named described that calls both\n",
    "# area() and get_perimeter() methods and prints a meassage in the format \"The area is {area} and the perimeter is {perimeter}\".\n",
    "\n",
    "# Create an object of the class with Length = 10 and width = 5 and the call the described methd to show the espected output.\n",
    "\n",
    "\n",
    "\n"
   ]
  },
  {
   "cell_type": "code",
   "execution_count": null,
   "id": "597a6469",
   "metadata": {},
   "outputs": [
    {
     "name": "stdout",
     "output_type": "stream",
     "text": [
      "The area is 50 and the perimeter is 30\n"
     ]
    }
   ],
   "source": [
    "class Rectangle:\n",
    "    def __init__(self,length, width):\n",
    "        self.length = length\n",
    "        self.width = width\n",
    "        \n",
    "    def area(self):\n",
    "        return self.length * self.width\n",
    "    \n",
    "    def get_perimeter(self):\n",
    "        return 2 * (self.length + self.width)\n",
    "    \n",
    "    def describe(self):\n",
    "        area = self.area()\n",
    "        perimeter = self.get_perimeter()\n",
    "        print(f\"The area is {area} and the perimeter is {perimeter}\")  #calling the instance in instance method\n",
    "\n",
    "rectangle = Rectangle(10, 5)\n",
    "rectangle.describe()"
   ]
  }
 ],
 "metadata": {
  "kernelspec": {
   "display_name": "Python 3",
   "language": "python",
   "name": "python3"
  },
  "language_info": {
   "codemirror_mode": {
    "name": "ipython",
    "version": 3
   },
   "file_extension": ".py",
   "mimetype": "text/x-python",
   "name": "python",
   "nbconvert_exporter": "python",
   "pygments_lexer": "ipython3",
   "version": "3.13.3"
  }
 },
 "nbformat": 4,
 "nbformat_minor": 5
}
