{
 "cells": [
  {
   "cell_type": "code",
   "execution_count": null,
   "id": "086730c2",
   "metadata": {},
   "outputs": [
    {
     "name": "stdout",
     "output_type": "stream",
     "text": [
      "Parrot speak\n"
     ]
    }
   ],
   "source": [
    "#Inheritance - Parent Class and Child Class\n",
    "\n",
    "class Animal:\n",
    "    def speak(self):\n",
    "        print(\"Animal speak\")\n",
    "\n",
    "class parrot(Animal):\n",
    "    def display_info(self):\n",
    "        print(\"Something\")\n",
    "    def speak(self):   # Overriding\n",
    "       print(\"Parrot speak\")\n",
    "\n",
    "parrort_1 = parrot()\n",
    "parrort_1.speak()\n"
   ]
  },
  {
   "cell_type": "code",
   "execution_count": null,
   "id": "e1c2707b",
   "metadata": {},
   "outputs": [
    {
     "name": "stdout",
     "output_type": "stream",
     "text": [
      "Parrot\n"
     ]
    }
   ],
   "source": [
    "class Animal: \n",
    "    def __init__(self,name):\n",
    "        self.name = name\n",
    "\n",
    "\n",
    "\n",
    "class parrot(Animal):\n",
    "    def speak(self):\n",
    "        print(\"parrot speak\")\n",
    "\n",
    "\n",
    "parrort_1 = parrot(\"Parrot\") #when sub class is not defined ,the parent class constructor is called\n",
    "print(parrort_1.name)\n",
    "\n"
   ]
  },
  {
   "cell_type": "code",
   "execution_count": null,
   "id": "91a7b3a9",
   "metadata": {},
   "outputs": [
    {
     "name": "stdout",
     "output_type": "stream",
     "text": [
      "Parrot\n",
      "Green\n"
     ]
    }
   ],
   "source": [
    "class Animal: \n",
    "    def __init__(self,name):\n",
    "        self.name = name\n",
    "\n",
    "class parrot(Animal):\n",
    "    def __init__(self,name,color):\n",
    "        self.color = color\n",
    "        super().__init__(name)  # call parent class constructor and pass parameter and assign to parent class\n",
    "    def speak(self):\n",
    "        print(\"parrot speak\")\n",
    "\n",
    "\n",
    "parrort_1 = parrot(\"Parrot\",\"Green\")\n",
    "print(parrort_1.name)\n",
    "print(parrort_1.color)\n",
    "\n",
    "# super() keyword is used to call parent class constructor"
   ]
  },
  {
   "cell_type": "code",
   "execution_count": 34,
   "id": "f728c72f",
   "metadata": {},
   "outputs": [],
   "source": [
    "#Q1) Define a base class called \"Employee\" that has attributes name and salary.It should have a method call display info\n",
    "# that prints the name and salary of the employee.\n",
    "# Then create a dirived class called \"Manager\" that inherits from Employee and adds an extra attribute call\n",
    "# \"department\". Overrride the display_info method in the manager class to include the department information as well.\n",
    "# Finally, write a python program to,\n",
    "\n",
    "# 1. create an object of the  manager class\n",
    " #2. call the display info method using that object.\n",
    "\n"
   ]
  },
  {
   "cell_type": "code",
   "execution_count": null,
   "id": "5ca35a08",
   "metadata": {},
   "outputs": [
    {
     "name": "stdout",
     "output_type": "stream",
     "text": [
      "Name:Lakhini \n",
      "Salary:100000\n",
      "Department: IT\n"
     ]
    }
   ],
   "source": [
    "class Employee:\n",
    "    def __init__(self,name,salary):\n",
    "        self.name = name\n",
    "        self.salary = salary\n",
    "        \n",
    "    def display_info(self):\n",
    "      print(f\"Name:{self.name} \\nSalary:{self.salary}\")\n",
    "    \n",
    "\n",
    "class Manager(Employee):\n",
    "    def __init__(self,name,salary,department):\n",
    "        self.department = department\n",
    "        super().__init__(name,salary)\n",
    "\n",
    "    def display_info(self):\n",
    "        super().display_info()\n",
    "        print(\"Department:\",self.department)\n",
    "\n",
    "manager_1 = Manager(\"Lakhini\", 100000, \"IT\")\n",
    "manager_1.display_info()\n",
    "\n"
   ]
  },
  {
   "cell_type": "code",
   "execution_count": null,
   "id": "21d6adae",
   "metadata": {},
   "outputs": [
    {
     "name": "stdout",
     "output_type": "stream",
     "text": [
      "Lakhini\n"
     ]
    }
   ],
   "source": [
    "# Encapsulation - Protected Access Modifier\n",
    "\n",
    "class Person:\n",
    "    def __init__(self):\n",
    "        self._name = \"Lakhini\"\n",
    "class Employee(Person):\n",
    "    def display_info(self):\n",
    "        print(self._name) # OK - accessed in subclass\n",
    "\n",
    "e = Employee()\n",
    "print(e._name)  # Technically allowed,but not recommended\n"
   ]
  },
  {
   "cell_type": "code",
   "execution_count": 44,
   "id": "f350fb71",
   "metadata": {},
   "outputs": [
    {
     "name": "stdout",
     "output_type": "stream",
     "text": [
      "Lakhini\n"
     ]
    }
   ],
   "source": [
    "# Private Access Modifier\n",
    "\n",
    "class Person:\n",
    "    def __init__(self):\n",
    "        self.__name = \"Lakhini\"\n",
    "    def get_name(self):\n",
    "        return self.__name\n",
    "\n",
    "p = Person()\n",
    "print(p.get_name())\n"
   ]
  },
  {
   "cell_type": "code",
   "execution_count": null,
   "id": "1daf9dc9",
   "metadata": {},
   "outputs": [],
   "source": [
    "# Q2) Design a python class called \"BankAccount\" that modules a basic bank account using the concept of Encapsulation.\n",
    "# Your class should ,\n",
    "# 1. Use private  attribute for account_number, owner_name and balance(should start at 0.0 by default)\n",
    "# 2. Provide a constructor that accepts only account_number and owner_name .That balance should be initialized to 0.0 inside the constructor.\n",
    "# 3. Include the following public method,\n",
    "   # display_account()---> prints the owners name and current balance (but not the account number)\n",
    "   # deposit(ammount) ---> adds money to the account only if the ammount is valid.\n",
    "   # withdraw(ammount) ---> diducts money only if there is enough balance.\n",
    "   # get_balance() ---> returns the current balance of the account\n",
    "# 4. Implement a private method called \"validate_ammount(ammount)\" that,\n",
    "   # Returns true if the ammount is a positive number.\n",
    "   # If used internally by both deposite() and withdraw() to validate input. \n"
   ]
  },
  {
   "cell_type": "code",
   "execution_count": null,
   "id": "d51c6d16",
   "metadata": {},
   "outputs": [
    {
     "name": "stdout",
     "output_type": "stream",
     "text": [
      "Owner Name: Lakhini\n",
      "Balance: 0.0\n",
      "Owner Name: Lakhini\n",
      "Balance: 2500.0\n"
     ]
    },
    {
     "data": {
      "text/plain": [
       "2000.0"
      ]
     },
     "execution_count": 86,
     "metadata": {},
     "output_type": "execute_result"
    }
   ],
   "source": [
    "class BankAccount:\n",
    "    def __init__(self, account_number , owner_name):\n",
    "        self.__account_number = account_number\n",
    "        self.__owner_name = owner_name\n",
    "        self.__balance = 0.0\n",
    "    \n",
    "    def display_account(self):\n",
    "        print(f\"Owner Name: {self.__owner_name}\")\n",
    "        print(f\"Balance: {self.__balance}\")\n",
    "\n",
    "    def __validate_ammount(self,ammount):  # Private method\n",
    "        return ammount > 0\n",
    "        \n",
    "    def deposit(self,ammount):\n",
    "        if self.__validate_ammount(ammount):\n",
    "            self.__balance += ammount\n",
    "        else:\n",
    "            print(\"Invalid ammount\")\n",
    "\n",
    "    def withdraw(self,ammount):\n",
    "        if self.__validate_ammount(ammount):\n",
    "            if self.__balance >= ammount:\n",
    "                self.__balance -= ammount\n",
    "            else:\n",
    "                print(\"Insufficient balance\")\n",
    "        else:\n",
    "            print(\"Invalid ammount\")\n",
    "\n",
    "    def get_balance(self):\n",
    "        return self.__balance\n",
    "\n",
    "account_1 = BankAccount(\"1234\", \"Lakhini\")\n",
    "account_1.display_account()\n",
    "account_1.deposit(2500)\n",
    "account_1.display_account()\n",
    "account_1.withdraw(500)\n",
    "account_1.get_balance()\n",
    "    "
   ]
  },
  {
   "cell_type": "code",
   "execution_count": null,
   "id": "38ca022b",
   "metadata": {},
   "outputs": [],
   "source": [
    "#====================================================== Data Science ===================================================="
   ]
  },
  {
   "cell_type": "code",
   "execution_count": 94,
   "id": "c129bfa7",
   "metadata": {},
   "outputs": [
    {
     "name": "stdout",
     "output_type": "stream",
     "text": [
      "Hi Guys! Hope everthing is good. I'm fine too.\n",
      "This is much better.\n",
      "This is even better.\n",
      "I love AI.\n"
     ]
    }
   ],
   "source": [
    "# File Handling\n",
    "\n",
    "file_1 = open (\"my_file.txt\")   # Open file\n",
    "\n",
    "read_coontent = file_1.read()   # Read file\n",
    "print(read_coontent)\n",
    "\n",
    "file_1.close()  # Close file\n"
   ]
  },
  {
   "cell_type": "code",
   "execution_count": null,
   "id": "90d42972",
   "metadata": {},
   "outputs": [
    {
     "name": "stdout",
     "output_type": "stream",
     "text": [
      "Hi Guys! Hope everthing is good. I'm fine too.\n",
      "\n",
      "This is much better.\n",
      "\n",
      "This is even better.\n",
      "\n",
      "I love AI.\n",
      "\n"
     ]
    }
   ],
   "source": [
    "# readline() method\n",
    "\n",
    "file_1 = open (\"my_file.txt\")   \n",
    "\n",
    "line_1 = file_1.readline()    # Read first line (/n) \n",
    "print(line_1)\n",
    "\n",
    "line_2 = file_1.readline()    # Read second line (/n)\n",
    "print(line_2)\n",
    "\n",
    "line_3 = file_1.readline()   \n",
    "print(line_3)\n",
    "\n",
    "line_4 = file_1.readline()   \n",
    "print(line_4)\n",
    "\n",
    "line_5 = file_1.readline()    # empty \n",
    "print(line_5)\n",
    "\n",
    "file_1.close() \n"
   ]
  },
  {
   "cell_type": "code",
   "execution_count": 100,
   "id": "406be7fe",
   "metadata": {},
   "outputs": [
    {
     "name": "stdout",
     "output_type": "stream",
     "text": [
      "Hi Guys! Hope everthing is good. I'm fine too.\n",
      "This is much better.\n",
      "This is even better.\n",
      "I love AI.\n"
     ]
    }
   ],
   "source": [
    "# Using a while loop\n",
    "\n",
    "\n",
    "file_1 = open (\"my_file.txt\") \n",
    "\n",
    "while True:\n",
    "    line = file_1.readline()\n",
    "    if not line:\n",
    "        break\n",
    "    print(line.strip())\n",
    "\n",
    "file_1.close()"
   ]
  },
  {
   "cell_type": "code",
   "execution_count": null,
   "id": "eb1ee217",
   "metadata": {},
   "outputs": [
    {
     "name": "stdout",
     "output_type": "stream",
     "text": [
      "[\"Hi Guys! Hope everthing is good. I'm fine too.\\n\", 'This is much better.\\n', 'This is even better.\\n', 'I love AI.']\n"
     ]
    }
   ],
   "source": [
    "# readlines() method \n",
    "\n",
    "file_1 = open (\"my_file.txt\", \"r\") \n",
    "\n",
    "lines = file_1.readlines()\n",
    "print(lines)\n",
    "\n",
    "file_1.close()"
   ]
  },
  {
   "cell_type": "code",
   "execution_count": 107,
   "id": "db94eff3",
   "metadata": {},
   "outputs": [
    {
     "name": "stdout",
     "output_type": "stream",
     "text": [
      "Hi Guys! Hope everthing is good. I'm fine too.\n",
      "This is much better.\n",
      "This is even better.\n",
      "I love AI.\n"
     ]
    }
   ],
   "source": [
    "file_1 = open (\"my_file.txt\", \"r\") \n",
    "\n",
    "lines = file_1.readlines()\n",
    "for line in lines:\n",
    "    print(line.strip())\n",
    "  \n",
    "\n",
    "\n",
    "file_1.close()"
   ]
  },
  {
   "cell_type": "code",
   "execution_count": 108,
   "id": "978efc09",
   "metadata": {},
   "outputs": [
    {
     "name": "stdout",
     "output_type": "stream",
     "text": [
      "Hi Guys! Hope everthing is good. I'm fine too.\n",
      "This is much better.\n",
      "This is even better.\n",
      "I love AI.\n"
     ]
    }
   ],
   "source": [
    "# 'with' statement - dont use close manually,it will automatically close the file\n",
    "\n",
    "with open (\"my_file.txt\",\"r\") as file_1:\n",
    "    print(file_1.read())"
   ]
  },
  {
   "cell_type": "code",
   "execution_count": 113,
   "id": "6b5b339a",
   "metadata": {},
   "outputs": [],
   "source": [
    "with open (\"my_file.txt\",\"w\") as file:\n",
    "    file.write(\"This is awesome.\\n\")\n",
    "    file.write(\"Programming is fun.\\n\")"
   ]
  },
  {
   "cell_type": "code",
   "execution_count": 118,
   "id": "99ffbdbf",
   "metadata": {},
   "outputs": [],
   "source": [
    "with open (\"my_file.txt\",\"w\") as file:\n",
    "    file.write(\"Hello World.\\n\")\n",
    "   "
   ]
  },
  {
   "cell_type": "code",
   "execution_count": null,
   "id": "4a684365",
   "metadata": {},
   "outputs": [],
   "source": [
    "# writeline() method\n",
    "\n",
    "with open (\"test_file.txt\",\"w\") as file:\n",
    "    lines = [\"This is new \\n\", \"Readlines method\\n\"]\n",
    "    file.writelines(lines)"
   ]
  },
  {
   "cell_type": "code",
   "execution_count": 129,
   "id": "57fc0089",
   "metadata": {},
   "outputs": [],
   "source": [
    "#append a sentence\n",
    "\n",
    "with open (\"test_file.txt\",\"a\") as file:\n",
    "  file.write(\"This is new sentence.\\n\")\n",
    " "
   ]
  },
  {
   "cell_type": "code",
   "execution_count": 131,
   "id": "823cc712",
   "metadata": {},
   "outputs": [
    {
     "name": "stdout",
     "output_type": "stream",
     "text": [
      "<class 'dict'>\n",
      "{'name': 'John Doe', 'age': 30, 'isStudent': False, 'hobbies': ['reading', 'gardening', 'swimming']}\n"
     ]
    }
   ],
   "source": [
    "# JSON File\n",
    "\n",
    "import json\n",
    "\n",
    "with open (\"test.json\", \"r\") as json_file:\n",
    "    json_data = json.load(json_file)\n",
    "    print(type(json_data))\n",
    "    print(json_data)\n"
   ]
  },
  {
   "cell_type": "code",
   "execution_count": 136,
   "id": "b6a090eb",
   "metadata": {},
   "outputs": [],
   "source": [
    "import json\n",
    "\n",
    "data = {\n",
    "    \"name\":\"John\",\n",
    "    \"age\":30,\n",
    "    \"city\":\"New York\"\n",
    "}\n",
    "\n",
    "with open (\"myson.json\", \"w\") as json_file:\n",
    "    json.dump(data, json_file, indent=4)\n",
    "\n"
   ]
  },
  {
   "cell_type": "code",
   "execution_count": 143,
   "id": "ddfb51c0",
   "metadata": {},
   "outputs": [
    {
     "name": "stdout",
     "output_type": "stream",
     "text": [
      "['Name', 'Age', 'Occupation']\n",
      "['John Doe', '30', 'Engineer']\n",
      "['Jane Smith', '25', 'Teacher']\n",
      "['Bob Johnson', '40', 'Doctor']\n",
      "['Alice Brown', '35', 'Artist']\n"
     ]
    }
   ],
   "source": [
    "# CSV File - Comma Separated Values\n",
    "import csv \n",
    "\n",
    "with open (\"test.csv\",\"r\", newline=\"\") as csv_file:\n",
    "    csv_reader = csv.reader(csv_file)\n",
    "    for row in csv_reader:\n",
    "        print(row)\n",
    "   #print(type(csv_reader))\n",
    "\n",
    "    "
   ]
  },
  {
   "cell_type": "code",
   "execution_count": 144,
   "id": "faa6e888",
   "metadata": {},
   "outputs": [
    {
     "name": "stdout",
     "output_type": "stream",
     "text": [
      "{'Name': 'John Doe', 'Age': '30', 'Occupation': 'Engineer'}\n",
      "{'Name': 'Jane Smith', 'Age': '25', 'Occupation': 'Teacher'}\n",
      "{'Name': 'Bob Johnson', 'Age': '40', 'Occupation': 'Doctor'}\n",
      "{'Name': 'Alice Brown', 'Age': '35', 'Occupation': 'Artist'}\n"
     ]
    }
   ],
   "source": [
    "# csv.DictReader\n",
    "import csv \n",
    "\n",
    "with open (\"test.csv\",\"r\", newline=\"\") as csv_file:\n",
    "    csv_reader = csv.DictReader(csv_file)\n",
    "    for row in csv_reader:\n",
    "        print(row)\n"
   ]
  },
  {
   "cell_type": "code",
   "execution_count": 149,
   "id": "65d8780f",
   "metadata": {},
   "outputs": [
    {
     "ename": "ValueError",
     "evalue": "dict contains fields not in fieldnames: 'city'",
     "output_type": "error",
     "traceback": [
      "\u001b[31m---------------------------------------------------------------------------\u001b[39m",
      "\u001b[31mValueError\u001b[39m                                Traceback (most recent call last)",
      "\u001b[36mCell\u001b[39m\u001b[36m \u001b[39m\u001b[32mIn[149]\u001b[39m\u001b[32m, line 18\u001b[39m\n\u001b[32m     16\u001b[39m writer = csv.DictWriter(csv_file, fieldnames=fieldnames)\n\u001b[32m     17\u001b[39m writer.writeheader()\n\u001b[32m---> \u001b[39m\u001b[32m18\u001b[39m \u001b[43mwriter\u001b[49m\u001b[43m.\u001b[49m\u001b[43mwriterows\u001b[49m\u001b[43m(\u001b[49m\u001b[43mdata\u001b[49m\u001b[43m)\u001b[49m\n",
      "\u001b[36mFile \u001b[39m\u001b[32mc:\\Users\\Voshadee\\AppData\\Local\\Programs\\Python\\Python313\\Lib\\csv.py:229\u001b[39m, in \u001b[36mDictWriter.writerows\u001b[39m\u001b[34m(self, rowdicts)\u001b[39m\n\u001b[32m    228\u001b[39m \u001b[38;5;28;01mdef\u001b[39;00m\u001b[38;5;250m \u001b[39m\u001b[34mwriterows\u001b[39m(\u001b[38;5;28mself\u001b[39m, rowdicts):\n\u001b[32m--> \u001b[39m\u001b[32m229\u001b[39m     \u001b[38;5;28;01mreturn\u001b[39;00m \u001b[38;5;28;43mself\u001b[39;49m\u001b[43m.\u001b[49m\u001b[43mwriter\u001b[49m\u001b[43m.\u001b[49m\u001b[43mwriterows\u001b[49m\u001b[43m(\u001b[49m\u001b[38;5;28;43mmap\u001b[39;49m\u001b[43m(\u001b[49m\u001b[38;5;28;43mself\u001b[39;49m\u001b[43m.\u001b[49m\u001b[43m_dict_to_list\u001b[49m\u001b[43m,\u001b[49m\u001b[43m \u001b[49m\u001b[43mrowdicts\u001b[49m\u001b[43m)\u001b[49m\u001b[43m)\u001b[49m\n",
      "\u001b[36mFile \u001b[39m\u001b[32mc:\\Users\\Voshadee\\AppData\\Local\\Programs\\Python\\Python313\\Lib\\csv.py:221\u001b[39m, in \u001b[36mDictWriter._dict_to_list\u001b[39m\u001b[34m(self, rowdict)\u001b[39m\n\u001b[32m    219\u001b[39m     wrong_fields = rowdict.keys() - \u001b[38;5;28mself\u001b[39m.fieldnames\n\u001b[32m    220\u001b[39m     \u001b[38;5;28;01mif\u001b[39;00m wrong_fields:\n\u001b[32m--> \u001b[39m\u001b[32m221\u001b[39m         \u001b[38;5;28;01mraise\u001b[39;00m \u001b[38;5;167;01mValueError\u001b[39;00m(\u001b[33m\"\u001b[39m\u001b[33mdict contains fields not in fieldnames: \u001b[39m\u001b[33m\"\u001b[39m\n\u001b[32m    222\u001b[39m                          + \u001b[33m\"\u001b[39m\u001b[33m, \u001b[39m\u001b[33m\"\u001b[39m.join([\u001b[38;5;28mrepr\u001b[39m(x) \u001b[38;5;28;01mfor\u001b[39;00m x \u001b[38;5;129;01min\u001b[39;00m wrong_fields]))\n\u001b[32m    223\u001b[39m \u001b[38;5;28;01mreturn\u001b[39;00m (rowdict.get(key, \u001b[38;5;28mself\u001b[39m.restval) \u001b[38;5;28;01mfor\u001b[39;00m key \u001b[38;5;129;01min\u001b[39;00m \u001b[38;5;28mself\u001b[39m.fieldnames)\n",
      "\u001b[31mValueError\u001b[39m: dict contains fields not in fieldnames: 'city'"
     ]
    }
   ],
   "source": [
    "import csv\n",
    "\n",
    "# Data to be load  wrritten to CSV\n",
    "data = [\n",
    "    {\"Name\": \"John Doe\", \"Age\": \"30\", \"city\": \"New York\"},\n",
    "    {\"Name\": \"Jane Smith\", \"Age\": \"25\", \"city\": \"Los Angeles\"},\n",
    "    {\"Name\": \"Bob Johnson\", \"Age\": \"40\", \"city\": \"Chicago\"}\n",
    "  \n",
    "]\n",
    "\n",
    "# Define the CSV fieldnames \n",
    "fieldnames = [\"Name\", \"Age\", \"City\"]\n",
    "\n",
    "\n",
    "with open(\"my_csv.csv\", \"w\", newline=\"\") as csv_file:\n",
    "    writer = csv.DictWriter(csv_file, fieldnames=fieldnames)\n",
    "    writer.writeheader()\n",
    "    writer.writerows(data)\n",
    "\n",
    "\n",
    "   \n"
   ]
  }
 ],
 "metadata": {
  "kernelspec": {
   "display_name": "Python 3",
   "language": "python",
   "name": "python3"
  },
  "language_info": {
   "codemirror_mode": {
    "name": "ipython",
    "version": 3
   },
   "file_extension": ".py",
   "mimetype": "text/x-python",
   "name": "python",
   "nbconvert_exporter": "python",
   "pygments_lexer": "ipython3",
   "version": "3.13.3"
  }
 },
 "nbformat": 4,
 "nbformat_minor": 5
}
