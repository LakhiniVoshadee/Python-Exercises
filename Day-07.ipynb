{
 "cells": [
  {
   "cell_type": "code",
   "execution_count": 4,
   "id": "bd006cca",
   "metadata": {},
   "outputs": [
    {
     "name": "stdout",
     "output_type": "stream",
     "text": [
      "[ 5  8  3 10]\n",
      "<class 'numpy.ndarray'>\n"
     ]
    }
   ],
   "source": [
    "import numpy as np\n",
    "\n",
    "arr = np.array([5,8,3,10])\n",
    "\n",
    "print(arr)\n",
    "print(type(arr))\n"
   ]
  },
  {
   "cell_type": "code",
   "execution_count": 9,
   "id": "e666f429",
   "metadata": {},
   "outputs": [
    {
     "name": "stdout",
     "output_type": "stream",
     "text": [
      "[11 10 11 21]\n",
      "[-1  6 -5 -1]\n",
      "[ 30  16  24 110]\n",
      "[0.83333333 4.         0.375      0.90909091]\n"
     ]
    }
   ],
   "source": [
    "# Array Operations in Numpy\n",
    "\n",
    "import numpy as np\n",
    "\n",
    "arr_1 = np.array([5,8,3,10])\n",
    "arr_2 = np.array([6,2,8,11])\n",
    "\n",
    "result_addition = arr_1 + arr_2\n",
    "print(result_addition)\n",
    "\n",
    "result_subtraction = arr_1 - arr_2\n",
    "print(result_subtraction)\n",
    "\n",
    "result_multiplication = arr_1 * arr_2\n",
    "print(result_multiplication)\n",
    "\n",
    "result_division = arr_1 / arr_2\n",
    "print(result_division)\n",
    "\n"
   ]
  },
  {
   "cell_type": "code",
   "execution_count": 10,
   "id": "df8f4c06",
   "metadata": {},
   "outputs": [
    {
     "name": "stdout",
     "output_type": "stream",
     "text": [
      "[ 4.  3.  6. 10.]\n"
     ]
    }
   ],
   "source": [
    "# square root\n",
    "\n",
    "import numpy as np\n",
    "\n",
    "arr_1 = np.array([16,9,36,100])\n",
    "\n",
    "print(np.sqrt(arr_1))"
   ]
  },
  {
   "cell_type": "code",
   "execution_count": null,
   "id": "852a85f2",
   "metadata": {},
   "outputs": [
    {
     "name": "stdout",
     "output_type": "stream",
     "text": [
      "161\n"
     ]
    }
   ],
   "source": [
    "print(np.sum(arr_1))  # sum"
   ]
  },
  {
   "cell_type": "code",
   "execution_count": null,
   "id": "3c891533",
   "metadata": {},
   "outputs": [
    {
     "name": "stdout",
     "output_type": "stream",
     "text": [
      "40.25\n"
     ]
    }
   ],
   "source": [
    "print(np.mean(arr_1))  # mean = sum / length\n"
   ]
  },
  {
   "cell_type": "code",
   "execution_count": 15,
   "id": "e4630dcc",
   "metadata": {},
   "outputs": [
    {
     "name": "stdout",
     "output_type": "stream",
     "text": [
      "100\n",
      "9\n"
     ]
    }
   ],
   "source": [
    "print(np.max(arr_1))  # max\n",
    "print(np.min(arr_1))  # min"
   ]
  },
  {
   "cell_type": "code",
   "execution_count": 16,
   "id": "0adba373",
   "metadata": {},
   "outputs": [
    {
     "name": "stdout",
     "output_type": "stream",
     "text": [
      "[[ 5  8  3 10]\n",
      " [ 6  2  8 11]]\n"
     ]
    }
   ],
   "source": [
    "# Mulitidimensional Arrays\n",
    "\n",
    "import numpy as np\n",
    "\n",
    "arr_1 = np.array([[5,8,3,10],[6,2,8,11]])\n",
    "\n",
    "print(arr_1)"
   ]
  },
  {
   "cell_type": "code",
   "execution_count": null,
   "id": "70eda0c7",
   "metadata": {},
   "outputs": [
    {
     "name": "stdout",
     "output_type": "stream",
     "text": [
      "8\n"
     ]
    }
   ],
   "source": [
    "print(arr_1.size)  # number of single elements"
   ]
  },
  {
   "cell_type": "code",
   "execution_count": null,
   "id": "35c62daa",
   "metadata": {},
   "outputs": [
    {
     "name": "stdout",
     "output_type": "stream",
     "text": [
      "2\n"
     ]
    }
   ],
   "source": [
    "print(arr_1.ndim) # number of dimensions"
   ]
  },
  {
   "cell_type": "code",
   "execution_count": null,
   "id": "9c2af352",
   "metadata": {},
   "outputs": [
    {
     "name": "stdout",
     "output_type": "stream",
     "text": [
      "(2, 4)\n"
     ]
    }
   ],
   "source": [
    "print(arr_1.shape)  # number of rows and columns - it is a tuple"
   ]
  },
  {
   "cell_type": "code",
   "execution_count": 24,
   "id": "15832c9d",
   "metadata": {},
   "outputs": [
    {
     "name": "stdout",
     "output_type": "stream",
     "text": [
      "(2, 2, 3)\n",
      "[[[ 8  3  1]\n",
      "  [ 5  9  8]]\n",
      "\n",
      " [[20 10 11]\n",
      "  [ 6  4  3]]]\n",
      "3\n",
      "12\n"
     ]
    }
   ],
   "source": [
    "import numpy as np \n",
    "\n",
    "arr_1 = np.array([[[8,3,1],[5,9,8]],[[20,10,11],[6,4,3]]])\n",
    "\n",
    "print(arr_1.shape)  # np.shape(arr_1) \n",
    "\n",
    "print(arr_1)\n",
    "\n",
    "print(arr_1.ndim) # np.ndim(arr_1)\n",
    "print(arr_1.size) # np.size(arr_1)\n",
    "\n",
    "\n"
   ]
  },
  {
   "cell_type": "code",
   "execution_count": 28,
   "id": "02fbcd46",
   "metadata": {},
   "outputs": [
    {
     "name": "stdout",
     "output_type": "stream",
     "text": [
      "[ 5  9 11  4  1]\n",
      "int64\n"
     ]
    }
   ],
   "source": [
    "import numpy as np\n",
    "\n",
    "arr_1 = np.array([5,9,11,4,True])\n",
    "\n",
    "print(arr_1)\n",
    "print(arr_1.dtype)  # data type of array in numpy\n",
    "\n"
   ]
  },
  {
   "cell_type": "code",
   "execution_count": null,
   "id": "c4301a2f",
   "metadata": {},
   "outputs": [
    {
     "name": "stdout",
     "output_type": "stream",
     "text": [
      "3\n",
      "8\n",
      "8\n",
      "3\n"
     ]
    }
   ],
   "source": [
    "# Array Indexing\n",
    "\n",
    "import numpy as np\n",
    "\n",
    "arr_1 = np.array([5,8,3,10])\n",
    "\n",
    "print(arr_1[2])\n",
    "\n",
    "arr_2 = np.array([[5,8,3,10],[6,2,8,11]])\n",
    "\n",
    "print(arr_2[1][2])  #in Java\n",
    "print(arr_2[1,2])  #in Python\n",
    "print(arr_2[-2,-2]) #negative indexing"
   ]
  },
  {
   "cell_type": "code",
   "execution_count": 33,
   "id": "15c542e2",
   "metadata": {},
   "outputs": [
    {
     "name": "stdout",
     "output_type": "stream",
     "text": [
      "[ 8 11]\n",
      "[ 8 11]\n"
     ]
    }
   ],
   "source": [
    "print(arr_2[1,2:4])\n",
    "print(arr_2[1,2:])"
   ]
  },
  {
   "cell_type": "code",
   "execution_count": null,
   "id": "b805f783",
   "metadata": {},
   "outputs": [
    {
     "name": "stdout",
     "output_type": "stream",
     "text": [
      "[False  True False  True]\n"
     ]
    }
   ],
   "source": [
    "# Boolean Indexing\n",
    "\n",
    "import numpy as np\n",
    "\n",
    "arr_1 = np.array([5,8,3,10])\n",
    "\n",
    "condition = arr_1 > 5  \n",
    "\n",
    "print(condition)"
   ]
  },
  {
   "cell_type": "code",
   "execution_count": 38,
   "id": "6cb2c36b",
   "metadata": {},
   "outputs": [
    {
     "name": "stdout",
     "output_type": "stream",
     "text": [
      "[ 8 10]\n",
      "[ 8 10]\n"
     ]
    }
   ],
   "source": [
    "print(arr_1[condition]) #Imposing a condition\n",
    "print(arr_1[arr_1 > 5])"
   ]
  },
  {
   "cell_type": "code",
   "execution_count": 45,
   "id": "a57e7180",
   "metadata": {},
   "outputs": [
    {
     "name": "stdout",
     "output_type": "stream",
     "text": [
      "[30]\n"
     ]
    }
   ],
   "source": [
    "arr = np.array([30,10,40,50,20])\n",
    "\n",
    "#print(arr[arr < 40 and arr > 20])\n",
    "print(arr[(arr < 40) & (arr > 25)])"
   ]
  },
  {
   "cell_type": "code",
   "execution_count": 51,
   "id": "8fbdb9fe",
   "metadata": {},
   "outputs": [],
   "source": [
    "# Q)  You are given the following array representing the body tempretures(in Celcious) of 5 patients or 3 timeslots(morning,afternoon,evening)\n",
    "\n",
    "# 31 30 28\n",
    "# 29 29 32\n",
    "# 26 24 27\n",
    "# 31 34 35\n",
    "# 28 31 30\n",
    "\n",
    "# Identify and extract all tempreture readings grater than the daily average tempreture using boolean indexing.\n",
    "\n"
   ]
  },
  {
   "cell_type": "code",
   "execution_count": 62,
   "id": "9adca68d",
   "metadata": {},
   "outputs": [
    {
     "name": "stdout",
     "output_type": "stream",
     "text": [
      "[[31 30 28]\n",
      " [29 29 32]\n",
      " [26 24 27]\n",
      " [31 34 35]\n",
      " [28 31 30]]\n",
      "29.666666666666668\n",
      "[[ True  True False]\n",
      " [False False  True]\n",
      " [False False False]\n",
      " [ True  True  True]\n",
      " [False  True  True]]\n",
      "[31 30 32 31 34 35 31 30]\n"
     ]
    }
   ],
   "source": [
    "import numpy as np\n",
    "\n",
    "temp_arr = np.array([\n",
    "    [31,30,28],\n",
    "    [29,29,32],\n",
    "    [26,24,27],\n",
    "    [31,34,35],\n",
    "    [28,31,30]\n",
    "    ])\n",
    "\n",
    "print(temp_arr)\n",
    "\n",
    "print(temp_arr.mean())\n",
    "\n",
    "print(temp_arr > temp_arr.mean())\n",
    "\n",
    "print(temp_arr[temp_arr > temp_arr.mean()])"
   ]
  },
  {
   "cell_type": "code",
   "execution_count": 68,
   "id": "cfdaa9db",
   "metadata": {},
   "outputs": [
    {
     "name": "stdout",
     "output_type": "stream",
     "text": [
      "Daily Average is: 29.666666666666668\n",
      "all tempreture readings grater than the daily average tempreture using boolean indexing: [[ True  True False]\n",
      " [False False  True]\n",
      " [False False False]\n",
      " [ True  True  True]\n",
      " [False  True  True]]\n",
      "Extract all tempreture readings grater than the daily average tempreture using boolean indexing: [31 30 32 31 34 35 31 30]\n"
     ]
    }
   ],
   "source": [
    "import numpy as np\n",
    "\n",
    "temp_arr = np.array([\n",
    "    [31,30,28],\n",
    "    [29,29,32],\n",
    "    [26,24,27],\n",
    "    [31,34,35],\n",
    "    [28,31,30]\n",
    "    ])\n",
    "\n",
    "daily_average = np.mean(temp_arr)\n",
    "\n",
    "print(\"Daily Average is:\",daily_average)\n",
    "\n",
    "print(\"all tempreture readings grater than the daily average tempreture using boolean indexing:\"    ,temp_arr > daily_average)\n",
    "\n",
    "print(\"Extract all tempreture readings grater than the daily average tempreture using boolean indexing:\",temp_arr[temp_arr > daily_average])\n",
    "\n"
   ]
  },
  {
   "cell_type": "code",
   "execution_count": null,
   "id": "20f6973a",
   "metadata": {},
   "outputs": [
    {
     "name": "stdout",
     "output_type": "stream",
     "text": [
      "[[0. 0. 0.]\n",
      " [0. 0. 0.]]\n",
      "[0. 0. 0. 0. 0.]\n"
     ]
    }
   ],
   "source": [
    "# Array Initialization\n",
    "\n",
    "import numpy as np\n",
    "\n",
    "print(np.zeros((2,3))) #2D array\n",
    "print(np.zeros(5)) #1D array"
   ]
  },
  {
   "cell_type": "code",
   "execution_count": 70,
   "id": "3383721e",
   "metadata": {},
   "outputs": [
    {
     "name": "stdout",
     "output_type": "stream",
     "text": [
      "[[1. 1. 1.]\n",
      " [1. 1. 1.]]\n",
      "[1. 1. 1. 1. 1.]\n"
     ]
    }
   ],
   "source": [
    "import numpy as np\n",
    "\n",
    "print(np.ones((2,3))) #2D array\n",
    "print(np.ones(5)) #1D array"
   ]
  },
  {
   "cell_type": "code",
   "execution_count": 71,
   "id": "b8f66e68",
   "metadata": {},
   "outputs": [
    {
     "name": "stdout",
     "output_type": "stream",
     "text": [
      "[[5 5 5]\n",
      " [5 5 5]]\n",
      "[5 5 5 5 5]\n"
     ]
    }
   ],
   "source": [
    "import numpy as np\n",
    "\n",
    "print(np.full((2,3),5)) #2D array\n",
    "print(np.full(5,5)) #1D array"
   ]
  },
  {
   "cell_type": "code",
   "execution_count": 73,
   "id": "8e169141",
   "metadata": {},
   "outputs": [
    {
     "name": "stdout",
     "output_type": "stream",
     "text": [
      "[[1 2 3]\n",
      " [1 2 3]]\n"
     ]
    }
   ],
   "source": [
    "# Q2)\n",
    "\n",
    "import numpy as np\n",
    "\n",
    "print(np.full((2,3),[1,2,3]))"
   ]
  },
  {
   "cell_type": "code",
   "execution_count": 74,
   "id": "6720ba94",
   "metadata": {},
   "outputs": [
    {
     "name": "stdout",
     "output_type": "stream",
     "text": [
      "[[4.9e-324 9.9e-324 1.5e-323]\n",
      " [4.9e-324 9.9e-324 1.5e-323]]\n"
     ]
    }
   ],
   "source": [
    "import numpy as np\n",
    "\n",
    "print(np.empty((2,3)))"
   ]
  },
  {
   "cell_type": "code",
   "execution_count": null,
   "id": "9358209b",
   "metadata": {},
   "outputs": [
    {
     "name": "stdout",
     "output_type": "stream",
     "text": [
      "     Name  Age\n",
      "0   Alice   25\n",
      "1     Bob   30\n",
      "2  Carlie   35\n",
      "3   David   40\n"
     ]
    }
   ],
   "source": [
    "#DataFrames\n",
    "\n",
    "import pandas as pd\n",
    "\n",
    "data = {'Name': ['Alice','Bob','Carlie','David'],\n",
    "        'Age': [25,30,35,40]\n",
    "        }\n",
    "\n",
    "df = pd.DataFrame(data)\n",
    "\n",
    "print(df)\n",
    "\n"
   ]
  },
  {
   "cell_type": "code",
   "execution_count": null,
   "id": "def37a65",
   "metadata": {},
   "outputs": [
    {
     "name": "stdout",
     "output_type": "stream",
     "text": [
      "Alice\n"
     ]
    }
   ],
   "source": [
    "# Accessing by row label\n",
    "\n",
    "import pandas as pd\n",
    "\n",
    "print(df.loc[0,'Name'])\n"
   ]
  },
  {
   "cell_type": "code",
   "execution_count": 6,
   "id": "77a8c9cb",
   "metadata": {},
   "outputs": [
    {
     "name": "stdout",
     "output_type": "stream",
     "text": [
      "35\n"
     ]
    }
   ],
   "source": [
    "#Accessing by row index\n",
    "\n",
    "import pandas as pd\n",
    "\n",
    "print(df.iloc[2,1]) #iloc = integer location of location"
   ]
  },
  {
   "cell_type": "code",
   "execution_count": 7,
   "id": "757b6754",
   "metadata": {},
   "outputs": [
    {
     "name": "stdout",
     "output_type": "stream",
     "text": [
      "Name    Carlie\n",
      "Age         35\n",
      "Name: 2, dtype: object\n"
     ]
    }
   ],
   "source": [
    "# How to get rows by row lable...\n",
    "\n",
    "import pandas as pd\n",
    "\n",
    "print(df.loc[2])"
   ]
  },
  {
   "cell_type": "code",
   "execution_count": 8,
   "id": "1c5414b8",
   "metadata": {},
   "outputs": [
    {
     "name": "stdout",
     "output_type": "stream",
     "text": [
      "Name    Carlie\n",
      "Age         35\n",
      "Name: 2, dtype: object\n"
     ]
    }
   ],
   "source": [
    "import pandas as pd\n",
    "\n",
    "print(df.iloc[2])"
   ]
  },
  {
   "cell_type": "code",
   "execution_count": null,
   "id": "d302b355",
   "metadata": {},
   "outputs": [
    {
     "name": "stdout",
     "output_type": "stream",
     "text": [
      "             Name  Age\n",
      "Student 1   Alice   25\n",
      "Student 2     Bob   30\n",
      "Student 3  Carlie   35\n",
      "Student 4   David   40\n"
     ]
    }
   ],
   "source": [
    "# Accessing by row label\n",
    "\n",
    "import pandas as pd\n",
    "\n",
    "\n",
    "df = pd.DataFrame(data, index = [\"Student 1\",\"Student 2\",\"Student 3\",\"Student 4\"])\n",
    "\n",
    "print(df)"
   ]
  },
  {
   "cell_type": "code",
   "execution_count": 12,
   "id": "b85b0863",
   "metadata": {},
   "outputs": [
    {
     "name": "stdout",
     "output_type": "stream",
     "text": [
      "Name    Bob\n",
      "Age      30\n",
      "Name: Student 2, dtype: object\n",
      "Name    Carlie\n",
      "Age         35\n",
      "Name: Student 3, dtype: object\n"
     ]
    }
   ],
   "source": [
    "# Q3) \n",
    "\n",
    "import pandas as pd\n",
    "\n",
    "print(df.iloc[1])\n",
    "print(df.loc[\"Student 3\"])"
   ]
  },
  {
   "cell_type": "code",
   "execution_count": 18,
   "id": "e4f0738f",
   "metadata": {},
   "outputs": [
    {
     "name": "stdout",
     "output_type": "stream",
     "text": [
      "            Name  Age\n",
      "Student 2    Bob   30\n",
      "Student 4  David   40\n"
     ]
    }
   ],
   "source": [
    "# Q4)\n",
    "\n",
    "import pandas as pd\n",
    "\n",
    "#print(df.loc[\"Student 2\" \"Student 4\"])\n",
    "\n",
    "print(df.loc[[\"Student 2\",\"Student 4\"]])\n"
   ]
  },
  {
   "cell_type": "code",
   "execution_count": 19,
   "id": "bdb1713a",
   "metadata": {},
   "outputs": [
    {
     "name": "stdout",
     "output_type": "stream",
     "text": [
      "Student 1    25\n",
      "Student 2    30\n",
      "Student 3    35\n",
      "Student 4    40\n",
      "Name: Age, dtype: int64\n"
     ]
    }
   ],
   "source": [
    "# Accessing by colomns\n",
    "\n",
    "import pandas as pd\n",
    "\n",
    "age_column = df['Age']\n",
    "\n",
    "print(age_column)"
   ]
  },
  {
   "cell_type": "code",
   "execution_count": 5,
   "id": "ef917a33",
   "metadata": {},
   "outputs": [
    {
     "name": "stdout",
     "output_type": "stream",
     "text": [
      "             Name  Age\n",
      "Student 1   Alice   25\n",
      "Student 2     Bob   30\n",
      "Student 3  Carlie   35\n",
      "Student 4   David   40\n",
      "Index(['Name', 'Age'], dtype='object')\n",
      "['Name', 'Age']\n"
     ]
    }
   ],
   "source": [
    "import pandas as pd\n",
    "\n",
    "data = {'Name': ['Alice','Bob','Carlie','David'],\n",
    "        'Age': [25,30,35,40]\n",
    "        }\n",
    "df = pd.DataFrame(data, index = [\"Student 1\",\"Student 2\",\"Student 3\",\"Student 4\"])\n",
    "\n",
    "print(df)\n",
    "print(df.columns)\n",
    "print(list(df.columns)) #converting to list"
   ]
  },
  {
   "cell_type": "code",
   "execution_count": 6,
   "id": "34838401",
   "metadata": {},
   "outputs": [
    {
     "name": "stdout",
     "output_type": "stream",
     "text": [
      "             Name  Age\n",
      "Student 1   Alice   25\n",
      "Student 2     Bob   30\n",
      "Student 3  Carlie   35\n",
      "Student 4   David   40\n",
      "8\n"
     ]
    }
   ],
   "source": [
    "import pandas as pd\n",
    "\n",
    "data = {'Name': ['Alice','Bob','Carlie','David'],\n",
    "        'Age': [25,30,35,40]\n",
    "        }\n",
    "df = pd.DataFrame(data, index = [\"Student 1\",\"Student 2\",\"Student 3\",\"Student 4\"])\n",
    "\n",
    "print(df)\n",
    "print(df.size)"
   ]
  },
  {
   "cell_type": "code",
   "execution_count": null,
   "id": "f43cbe93",
   "metadata": {},
   "outputs": [
    {
     "name": "stdout",
     "output_type": "stream",
     "text": [
      "8\n",
      "(4, 2)\n",
      "4\n"
     ]
    }
   ],
   "source": [
    "import pandas as pd\n",
    "\n",
    "data = {'Name': ['Alice','Bob','Carlie','David'],\n",
    "        'Age': [25,30,35,40]\n",
    "        }\n",
    "df = pd.DataFrame(data, index = [\"Student 1\",\"Student 2\",\"Student 3\",\"Student 4\"])"
   ]
  },
  {
   "cell_type": "code",
   "execution_count": 4,
   "id": "bd54ee75",
   "metadata": {},
   "outputs": [
    {
     "name": "stdout",
     "output_type": "stream",
     "text": [
      "8\n",
      "(4, 2)\n",
      "4\n"
     ]
    }
   ],
   "source": [
    "print(df.size)\n",
    "print(df.shape)\n",
    "print(len(df))"
   ]
  },
  {
   "cell_type": "code",
   "execution_count": null,
   "id": "3d956d2f",
   "metadata": {},
   "outputs": [
    {
     "name": "stdout",
     "output_type": "stream",
     "text": [
      "[['Alice' 25]\n",
      " ['Bob' 30]\n",
      " ['Carlie' 35]\n",
      " ['David' 40]]\n",
      "<class 'numpy.ndarray'>\n"
     ]
    }
   ],
   "source": [
    "print(df.values)\n",
    "print(type(df.values))  # To convert into numpy array\n"
   ]
  },
  {
   "cell_type": "code",
   "execution_count": 10,
   "id": "449db80c",
   "metadata": {},
   "outputs": [
    {
     "name": "stdout",
     "output_type": "stream",
     "text": [
      "32.5\n",
      "40\n"
     ]
    }
   ],
   "source": [
    "print(df['Age'].mean())\n",
    "print(df['Age'].max())\n",
    "\n",
    "\n"
   ]
  },
  {
   "cell_type": "code",
   "execution_count": 8,
   "id": "e32a9e69",
   "metadata": {},
   "outputs": [
    {
     "name": "stdout",
     "output_type": "stream",
     "text": [
      "Name    AliceBobCarlieDavid\n",
      "Age                     130\n",
      "dtype: object\n"
     ]
    }
   ],
   "source": [
    "print(df.sum())"
   ]
  },
  {
   "cell_type": "code",
   "execution_count": 13,
   "id": "30e1773e",
   "metadata": {},
   "outputs": [
    {
     "name": "stdout",
     "output_type": "stream",
     "text": [
      "             Name  Age     City  Salary\n",
      "Student 1   Alice   25  Colombo   50000\n",
      "Student 2     Bob   30    Kandy   60000\n",
      "Student 3  Carlie   35    Galle   70000\n",
      "Student 4   David   40   Matara   80000\n"
     ]
    }
   ],
   "source": [
    "df['City'] = [\"Colombo\",\"Kandy\",\"Galle\",\"Matara\"]\n",
    "df['Salary'] = [50000,60000,70000,80000]\n",
    "\n",
    "print(df)"
   ]
  },
  {
   "cell_type": "code",
   "execution_count": 15,
   "id": "d5017e67",
   "metadata": {},
   "outputs": [
    {
     "name": "stdout",
     "output_type": "stream",
     "text": [
      "             Name  Age    City  Salary\n",
      "Student 3  Carlie   35   Galle   70000\n",
      "Student 4   David   40  Matara   80000\n",
      "<class 'pandas.core.frame.DataFrame'>\n"
     ]
    }
   ],
   "source": [
    "# Filtering rows in a DataFrame\n",
    "\n",
    "filtered_df = df[df['Age'] > 30]\n",
    "\n",
    "print(filtered_df)\n",
    "print(type(filtered_df))"
   ]
  },
  {
   "cell_type": "code",
   "execution_count": 24,
   "id": "c893f3c8",
   "metadata": {},
   "outputs": [
    {
     "name": "stdout",
     "output_type": "stream",
     "text": [
      "          Name  Age   City  Salary\n",
      "Student 2  Bob   30  Kandy   60000\n"
     ]
    }
   ],
   "source": [
    "# Q4) \n",
    "\n",
    "#filtered_df = df[df['Age'] > 28 and df['Salary'] > 65000]\n",
    "\n",
    "filtered_df = df[(df['Age'] > 28) & (df['Salary'] < 65000)]\n",
    "\n",
    "print(filtered_df)"
   ]
  },
  {
   "cell_type": "code",
   "execution_count": null,
   "id": "fe581267",
   "metadata": {},
   "outputs": [],
   "source": [
    "# Q) You are given the following data set representing the exam recod of students in a programming course.\n",
    "# The data includes marks for two assignments and a final exam.\n",
    "# StudentID   Name   Assignment1  Assignment2  Final\n",
    "# 1001        Ayesha      78           60         70\n",
    "# 1002        Nimal       65           65         75\n",
    "# 1003        Tharindu    88           70          80\n",
    "# 1004        Kasun       50           45          60\n",
    "# 1005       Shashini     80           75         85     \n",
    " \n",
    "\n",
    "# Write a python program using pandas to:\n",
    "# 1. create a dataframe using the data given about \n",
    "# 2. display the names of all students who scored more than 80 in the final exam.\n",
    "# 3. Compute the average scores each students across all three assesments and add it as a new column called \"Average\" in the dataframe.\n",
    "# 4. Display the student(s)  with highest average score.\n",
    "# 5. Calculate and display the total marks scored by all students in assigntment 1.\n",
    "\n"
   ]
  },
  {
   "cell_type": "code",
   "execution_count": null,
   "id": "b5829552",
   "metadata": {},
   "outputs": [
    {
     "name": "stdout",
     "output_type": "stream",
     "text": [
      "   StudentId      Name  Assignment1  Assignment2  Final\n",
      "0       1001    Ayesha           78           85     90\n",
      "1       1002     Nimal           65           70     72\n",
      "2       1003  Tharindu           88           90     95\n",
      "3       1004     Kasun           50           45     60\n",
      "4       1005  Shashini           80           75     85\n",
      "       Name  Final\n",
      "0    Ayesha     90\n",
      "2  Tharindu     95\n",
      "4  Shashini     85\n",
      "   StudentId      Name  Assignment1  Assignment2  Final    Average\n",
      "0       1001    Ayesha           78           85     90  84.333333\n",
      "1       1002     Nimal           65           70     72  69.000000\n",
      "2       1003  Tharindu           88           90     95  91.000000\n",
      "3       1004     Kasun           50           45     60  51.666667\n",
      "4       1005  Shashini           80           75     85  80.000000\n",
      "       Name  Average\n",
      "2  Tharindu     91.0\n",
      "361\n"
     ]
    }
   ],
   "source": [
    "import pandas as pd\n",
    "\n",
    "# 1)\n",
    "student_data = {'StudentId': [1001,1002,1003,1004,1005],\n",
    "              'Name' : ['Ayesha','Nimal','Tharindu','Kasun','Shashini'],\n",
    "              'Assignment1' : [78,65,88,50,80],\n",
    "              'Assignment2' : [85,70,90,45,75],\n",
    "              'Final' : [90,72,95,60,85]\n",
    "              }\n",
    "# 2)\n",
    "df = pd.DataFrame(student_data)\n",
    "print(df)\n",
    "\n",
    "filtered_df = df[df['Final'] > 80 ]\n",
    "print(filtered_df[['Name','Final']])\n",
    "\n",
    "# 3)\n",
    "#Average_df = df[df['Assignment1'] + df['Assignment2'] + df['Final']]/3\n",
    "df['Average'] = (df['Assignment1'] + df['Assignment2'] + df['Final'])/3\n",
    "print(df)\n",
    "\n",
    "# 4) \n",
    "average_max = df['Average'].max()\n",
    "max_average_df = df[df['Average'] == average_max]\n",
    "print(max_average_df[['Name','Average']])\n",
    "\n",
    "\n",
    "# 5)\n",
    "print(df['Assignment1'].sum())\n",
    "\n"
   ]
  },
  {
   "cell_type": "code",
   "execution_count": 62,
   "id": "bf77a848",
   "metadata": {},
   "outputs": [
    {
     "name": "stdout",
     "output_type": "stream",
     "text": [
      "          Name  Age Occupation\n",
      "0     John Doe   30   Engineer\n",
      "1   Jane Smith   25    Teacher\n",
      "2  Bob Johnson   40     Doctor\n",
      "3  Alice Brown   35     Artist\n",
      "<class 'pandas.core.frame.DataFrame'>\n"
     ]
    }
   ],
   "source": [
    "# Read CSV File\n",
    "\n",
    "import pandas as pd\n",
    "\n",
    "df = pd.read_csv(\"test.csv\")\n",
    "print(df)\n",
    "print(type(df))"
   ]
  },
  {
   "cell_type": "code",
   "execution_count": null,
   "id": "31fe2ac9",
   "metadata": {},
   "outputs": [],
   "source": [
    "# JSON File"
   ]
  }
 ],
 "metadata": {
  "kernelspec": {
   "display_name": "Python 3",
   "language": "python",
   "name": "python3"
  },
  "language_info": {
   "codemirror_mode": {
    "name": "ipython",
    "version": 3
   },
   "file_extension": ".py",
   "mimetype": "text/x-python",
   "name": "python",
   "nbconvert_exporter": "python",
   "pygments_lexer": "ipython3",
   "version": "3.13.3"
  }
 },
 "nbformat": 4,
 "nbformat_minor": 5
}
