{
 "cells": [
  {
   "cell_type": "code",
   "execution_count": 3,
   "id": "08771d52",
   "metadata": {},
   "outputs": [
    {
     "name": "stdout",
     "output_type": "stream",
     "text": [
      "('tennis', 'cricket', 'football')\n",
      "<class 'tuple'>\n",
      "cricket\n",
      "3\n"
     ]
    }
   ],
   "source": [
    "sports = (\"tennis\",\"cricket\",\"football\")\n",
    "print(sports)\n",
    "print(type(sports))\n",
    "print(sports[1])\n",
    "print(len(sports))\n"
   ]
  },
  {
   "cell_type": "code",
   "execution_count": 5,
   "id": "94ab5299",
   "metadata": {},
   "outputs": [
    {
     "name": "stdout",
     "output_type": "stream",
     "text": [
      "('tennis',)\n",
      "<class 'tuple'>\n",
      "1\n"
     ]
    }
   ],
   "source": [
    "sports = (\"tennis\",)\n",
    "print(sports)\n",
    "print(type(sports))\n",
    "print(len(sports))"
   ]
  },
  {
   "cell_type": "code",
   "execution_count": 7,
   "id": "5a893df9",
   "metadata": {},
   "outputs": [
    {
     "name": "stdout",
     "output_type": "stream",
     "text": [
      "('tennis', 30, 'True', 'cricket', 'football')\n",
      "('True', 'cricket', 'football')\n",
      "('tennis', 30, 'True', 'cricket')\n",
      "('True', 'cricket', 'football')\n"
     ]
    }
   ],
   "source": [
    "my_tuple = (\"tennis\",30,\"True\",\"cricket\",\"football\")\n",
    "print(my_tuple)\n",
    "print(my_tuple[2:5])\n",
    "print(my_tuple[:4])\n",
    "print(my_tuple[2:])"
   ]
  },
  {
   "cell_type": "code",
   "execution_count": 12,
   "id": "0f3ff8b3",
   "metadata": {},
   "outputs": [
    {
     "name": "stdout",
     "output_type": "stream",
     "text": [
      "('apple', 'banana', 'orange')\n",
      "['apple', 'banana', 'orange'] <class 'list'>\n",
      "['apple', 'cherry', 'orange']\n",
      "('apple', 'cherry', 'orange')\n"
     ]
    }
   ],
   "source": [
    "fruits = (\"apple\", \"banana\", \"orange\")\n",
    "print(fruits)\n",
    "x = list(fruits)\n",
    "print(x,type(x))\n",
    "x[1] = \"cherry\"\n",
    "print(x)\n",
    "fruits = tuple(x)\n",
    "print(fruits)\n"
   ]
  },
  {
   "cell_type": "code",
   "execution_count": 19,
   "id": "f10b5133",
   "metadata": {},
   "outputs": [
    {
     "name": "stdout",
     "output_type": "stream",
     "text": [
      "((1, 2, 3), ('a', 'b', 'c'), (True, False))\n",
      "b\n",
      "False\n"
     ]
    }
   ],
   "source": [
    "nested_tuple = ((1, 2, 3),(\"a\",\"b\",\"c\"),(True, False))\n",
    "print(nested_tuple)\n",
    "print(nested_tuple[1][1])  \n",
    "print(nested_tuple[2][1])  "
   ]
  },
  {
   "cell_type": "code",
   "execution_count": 27,
   "id": "56828ae3",
   "metadata": {},
   "outputs": [
    {
     "name": "stdout",
     "output_type": "stream",
     "text": [
      "{'tennis', 'football', 'cricket'}\n",
      "<class 'set'>\n"
     ]
    }
   ],
   "source": [
    "sports = {\"tennis\",\"cricket\",\"football\",\"tennis\"}\n",
    "print(sports)\n",
    "print(type(sports))\n"
   ]
  },
  {
   "cell_type": "code",
   "execution_count": 28,
   "id": "fa3c7654",
   "metadata": {},
   "outputs": [
    {
     "name": "stdout",
     "output_type": "stream",
     "text": [
      "{'tennis', 'football', 'hockey', 'cricket'}\n"
     ]
    }
   ],
   "source": [
    "set_1 ={\"tennis\",\"cricket\",\"football\"}\n",
    "set_1.add(\"hockey\")\n",
    "print(set_1)"
   ]
  },
  {
   "cell_type": "code",
   "execution_count": 30,
   "id": "bff02cb5",
   "metadata": {},
   "outputs": [
    {
     "name": "stdout",
     "output_type": "stream",
     "text": [
      "{'football', 'basketball', 'cricket', 'tennis', 'hockey'}\n"
     ]
    }
   ],
   "source": [
    "set_1 ={\"tennis\",\"cricket\",\"football\"}\n",
    "set_2 = {\"hockey\",\"basketball\"}\n",
    "set_1.update((set_2))\n",
    "print(set_1)"
   ]
  },
  {
   "cell_type": "code",
   "execution_count": 32,
   "id": "f92e6f6e",
   "metadata": {},
   "outputs": [
    {
     "name": "stdout",
     "output_type": "stream",
     "text": [
      "{'football', 'tennis', 'hockey', 'cricket', 'basketall'}\n"
     ]
    }
   ],
   "source": [
    "set_1 ={\"tennis\",\"cricket\",\"football\"}\n",
    "list =    [\"hockey\",\"basketall\"]\n",
    "set_1.update   (list)\n",
    "print(set_1)"
   ]
  },
  {
   "cell_type": "code",
   "execution_count": 1,
   "id": "595551de",
   "metadata": {},
   "outputs": [
    {
     "name": "stdout",
     "output_type": "stream",
     "text": [
      "{40, 50, 25, 60, 30}\n",
      "[25, 30, 40, 50, 60]\n"
     ]
    }
   ],
   "source": [
    "list_1 = [50,60,30,40,50,25,60,30,40] \n",
    "set_1 = set(list_1)\n",
    "print(set_1)\n",
    "list_1 = list(set_1)\n",
    "list_1.sort()\n",
    "print(list_1)\n",
    "\n",
    "\n",
    "\n",
    "\n"
   ]
  },
  {
   "cell_type": "code",
   "execution_count": 5,
   "id": "d6656dc1",
   "metadata": {},
   "outputs": [
    {
     "name": "stdout",
     "output_type": "stream",
     "text": [
      "range(1, 7)\n",
      "range(1, 12, 2)\n",
      "range(3, 24, 4)\n",
      "<class 'range'>\n",
      "11\n",
      "23\n"
     ]
    },
    {
     "ename": "IndexError",
     "evalue": "range object index out of range",
     "output_type": "error",
     "traceback": [
      "\u001b[31m---------------------------------------------------------------------------\u001b[39m",
      "\u001b[31mIndexError\u001b[39m                                Traceback (most recent call last)",
      "\u001b[36mCell\u001b[39m\u001b[36m \u001b[39m\u001b[32mIn[5]\u001b[39m\u001b[32m, line 11\u001b[39m\n\u001b[32m      9\u001b[39m \u001b[38;5;28mprint\u001b[39m(z[\u001b[32m2\u001b[39m]) \n\u001b[32m     10\u001b[39m \u001b[38;5;28mprint\u001b[39m(z[\u001b[32m5\u001b[39m])\n\u001b[32m---> \u001b[39m\u001b[32m11\u001b[39m \u001b[38;5;28mprint\u001b[39m(\u001b[43mz\u001b[49m\u001b[43m[\u001b[49m\u001b[32;43m6\u001b[39;49m\u001b[43m]\u001b[49m)\n",
      "\u001b[31mIndexError\u001b[39m: range object index out of range"
     ]
    }
   ],
   "source": [
    "x = range(1,7,1)\n",
    "y = range(1,12,2)\n",
    "z = range(3,24,4)\n",
    "\n",
    "print(x)\n",
    "print(y)\n",
    "print(z)\n",
    "print(type(x))\n",
    "print(z[2]) \n",
    "print(z[5])\n",
    "print(z[6])"
   ]
  },
  {
   "cell_type": "code",
   "execution_count": null,
   "id": "e7d776bc",
   "metadata": {},
   "outputs": [
    {
     "name": "stdout",
     "output_type": "stream",
     "text": [
      "{'name': 'Sugar', 'weight': '50kg', 'price': 150.5}\n",
      "<class 'dict'>\n"
     ]
    }
   ],
   "source": [
    "this_dict={\n",
    "    \"name\":\"Sugar\",\n",
    "    \"weight\":\"50kg\",\n",
    "    \"price\": 130.35,\n",
    "    \"price\": 150.50  # Duplicate key, last value will be kept\n",
    "}\n",
    "\n",
    "print(this_dict)\n",
    "print(type(this_dict))"
   ]
  },
  {
   "cell_type": "code",
   "execution_count": 10,
   "id": "12f45076",
   "metadata": {},
   "outputs": [
    {
     "name": "stdout",
     "output_type": "stream",
     "text": [
      "{'name': 'Sugar', 'weight': '50kg', 'price': 130.35}\n",
      "Sugar\n",
      "50kg\n",
      "130.35\n",
      "Sugar\n",
      "50kg\n",
      "3\n"
     ]
    }
   ],
   "source": [
    "this_dict={\n",
    "    \"name\":\"Sugar\",\n",
    "    \"weight\":\"50kg\",\n",
    "    \"price\": 130.35\n",
    "}\n",
    "\n",
    "print(this_dict)\n",
    "print(this_dict[\"name\"])\n",
    "print(this_dict[\"weight\"])\n",
    "print(this_dict[\"price\"]) # Get the value of the \"price\" key\n",
    "\n",
    "print(this_dict.get(\"name\"))\n",
    "print(this_dict.get(\"weight\"))\n",
    "\n",
    "print(len(this_dict))  # Get the number of items in the dictionary"
   ]
  },
  {
   "cell_type": "code",
   "execution_count": 12,
   "id": "4a1b122b",
   "metadata": {},
   "outputs": [
    {
     "name": "stdout",
     "output_type": "stream",
     "text": [
      "{'name': 'Sugar', 'weight': '50kg', 'price': 130.35}\n",
      "{'name': 'Sugar', 'weight': '50kg', 'price': 150.5}\n"
     ]
    }
   ],
   "source": [
    "this_dict={\n",
    "    \"name\":\"Sugar\",\n",
    "    \"weight\":\"50kg\",\n",
    "    \"price\": 130.35\n",
    "}\n",
    "print(this_dict)\n",
    "this_dict[\"price\"] = 150.50  # Update the value of the \"price\" key\n",
    "print(this_dict)"
   ]
  },
  {
   "cell_type": "code",
   "execution_count": 13,
   "id": "1a6b4614",
   "metadata": {},
   "outputs": [
    {
     "name": "stdout",
     "output_type": "stream",
     "text": [
      "{'name': 'Sugar', 'weight': '50kg', 'price': 130.35}\n",
      "{'name': 'Sugar', 'weight': '50kg', 'price': 130.35, 'color': 'white'}\n"
     ]
    }
   ],
   "source": [
    "this_dict={\n",
    "    \"name\":\"Sugar\",\n",
    "    \"weight\":\"50kg\",\n",
    "    \"price\": 130.35\n",
    "}\n",
    "\n",
    "print(this_dict)\n",
    "this_dict[\"color\"] = \"white\"  # Add a new key-value pair\n",
    "print(this_dict)"
   ]
  },
  {
   "cell_type": "code",
   "execution_count": 15,
   "id": "ef347174",
   "metadata": {},
   "outputs": [
    {
     "name": "stdout",
     "output_type": "stream",
     "text": [
      "{'name': 'Sugar', 'weight': '50kg', 'price': 130.35}\n",
      "{'name': 'Sugar', 'weight': '50kg', 'price': 120.5, 'color': 'white', 'origin': 'India'}\n"
     ]
    }
   ],
   "source": [
    "this_dict={\n",
    "    \"name\":\"Sugar\",\n",
    "    \"weight\":\"50kg\",\n",
    "    \"price\": 130.35\n",
    "}\n",
    "\n",
    "print(this_dict)\n",
    "this_dict.update({\"color\": \"white\", \"origin\": \"India\", \"price\": 120.50})  # Add multiple key-value pairs\n",
    "print(this_dict)"
   ]
  },
  {
   "cell_type": "code",
   "execution_count": 16,
   "id": "ef6f31b1",
   "metadata": {},
   "outputs": [
    {
     "name": "stdout",
     "output_type": "stream",
     "text": [
      "{'name': 'Sugar', 'weight': '50kg', 'price': 130.35}\n",
      "{'name': 'Sugar', 'price': 130.35}\n"
     ]
    }
   ],
   "source": [
    "this_dict={\n",
    "    \"name\":\"Sugar\",\n",
    "    \"weight\":\"50kg\",\n",
    "    \"price\": 130.35\n",
    "}\n",
    "\n",
    "print(this_dict)\n",
    "this_dict.pop(\"weight\")  # Remove the \"weight\" key-value pair\n",
    "print(this_dict)"
   ]
  },
  {
   "cell_type": "code",
   "execution_count": 17,
   "id": "37ee2541",
   "metadata": {},
   "outputs": [
    {
     "name": "stdout",
     "output_type": "stream",
     "text": [
      "{'name': 'Sugar', 'weight': '50kg', 'price': 130.35}\n",
      "{'name': 'Sugar', 'weight': '50kg'}\n"
     ]
    }
   ],
   "source": [
    "this_dict={\n",
    "    \"name\":\"Sugar\",\n",
    "    \"weight\":\"50kg\",\n",
    "    \"price\": 130.35\n",
    "}\n",
    "\n",
    "print(this_dict)\n",
    "this_dict.popitem()  # Remove the last inserted key-value pair\n",
    "print(this_dict)"
   ]
  },
  {
   "cell_type": "code",
   "execution_count": 22,
   "id": "b98c38d8",
   "metadata": {},
   "outputs": [
    {
     "name": "stdout",
     "output_type": "stream",
     "text": [
      "{'name': 'Sugar', 'weight': '50kg', 'price': 130.35}\n",
      "{'name': 'Sugar', 'weight': '50kg'}\n"
     ]
    },
    {
     "ename": "NameError",
     "evalue": "name 'this_dict' is not defined",
     "output_type": "error",
     "traceback": [
      "\u001b[31m---------------------------------------------------------------------------\u001b[39m",
      "\u001b[31mNameError\u001b[39m                                 Traceback (most recent call last)",
      "\u001b[36mCell\u001b[39m\u001b[36m \u001b[39m\u001b[32mIn[22]\u001b[39m\u001b[32m, line 11\u001b[39m\n\u001b[32m      9\u001b[39m \u001b[38;5;28mprint\u001b[39m(this_dict)\n\u001b[32m     10\u001b[39m \u001b[38;5;28;01mdel\u001b[39;00m this_dict\n\u001b[32m---> \u001b[39m\u001b[32m11\u001b[39m \u001b[38;5;28mprint\u001b[39m(\u001b[43mthis_dict\u001b[49m)  \n",
      "\u001b[31mNameError\u001b[39m: name 'this_dict' is not defined"
     ]
    }
   ],
   "source": [
    "this_dict={\n",
    "    \"name\":\"Sugar\",\n",
    "    \"weight\":\"50kg\",\n",
    "    \"price\": 130.35\n",
    "}\n",
    "\n",
    "print(this_dict)\n",
    "del this_dict[\"price\"] \n",
    "print(this_dict)\n",
    "del this_dict\n",
    "print(this_dict)  "
   ]
  },
  {
   "cell_type": "code",
   "execution_count": 25,
   "id": "2f7d4723",
   "metadata": {},
   "outputs": [
    {
     "name": "stdout",
     "output_type": "stream",
     "text": [
      "{'name': 'Sugar', 'weight': '50kg', 'price': 130.35}\n",
      "{}\n"
     ]
    }
   ],
   "source": [
    "this_dict={\n",
    "    \"name\":\"Sugar\",\n",
    "    \"weight\":\"50kg\",\n",
    "    \"price\": 130.35\n",
    "}\n",
    "\n",
    "print(this_dict)\n",
    "this_dict.clear()  # Clear all items in the dictionary\n",
    "print(this_dict)\n"
   ]
  },
  {
   "cell_type": "code",
   "execution_count": null,
   "id": "339f0dee",
   "metadata": {},
   "outputs": [
    {
     "name": "stdout",
     "output_type": "stream",
     "text": [
      "{'name': 'Sugar', 'weight': '50kg', 'price': 130.35}\n",
      "{'name': 'Rice', 'weight': '100kg', 'price': 500.35}\n"
     ]
    }
   ],
   "source": [
    "this_dict={\n",
    "    \"name\":\"Sugar\",\n",
    "    \"weight\":\"50kg\",\n",
    "    \"price\": 130.35\n",
    "}\n",
    "\n",
    "this_dict2 = this_dict.copy() \n",
    "\n",
    "print(this_dict2)\n",
    "\n",
    "this_dict={\n",
    "    \"name\":\"Rice\",\n",
    "    \"weight\":\"100kg\",\n",
    "    \"price\": 500.35\n",
    "}\n",
    "\n",
    "print(this_dict) "
   ]
  },
  {
   "cell_type": "code",
   "execution_count": null,
   "id": "a5848ebd",
   "metadata": {},
   "outputs": [
    {
     "name": "stdout",
     "output_type": "stream",
     "text": [
      "2\n",
      "2.3333333333333335\n",
      "343\n",
      "1\n"
     ]
    }
   ],
   "source": [
    "x,y = 7,3  \n",
    "print(x // y)  #Flow devision\n",
    "print(x / y) # Devision\n",
    "print(x ** y)  # Exponentiation\n",
    "print(x % y)  # Modulus operation"
   ]
  },
  {
   "cell_type": "code",
   "execution_count": null,
   "id": "bddf4256",
   "metadata": {},
   "outputs": [
    {
     "name": "stdout",
     "output_type": "stream",
     "text": [
      "15\n",
      "12\n",
      "24\n"
     ]
    }
   ],
   "source": [
    "x = 10\n",
    "\n",
    "x += 5\n",
    "print(x)  \n",
    "\n",
    "x -= 3  \n",
    "print(x)  \n",
    "\n",
    "x *= 2\n",
    "print(x)  "
   ]
  },
  {
   "cell_type": "code",
   "execution_count": 35,
   "id": "08dbb446",
   "metadata": {},
   "outputs": [
    {
     "name": "stdout",
     "output_type": "stream",
     "text": [
      "False\n",
      "True\n",
      "False\n",
      "True\n",
      "False\n",
      "True\n"
     ]
    }
   ],
   "source": [
    "a,b = 4,5\n",
    "\n",
    "print(a == b)  # Equal to\n",
    "print(a != b)  # Not equal to\n",
    "print(a > b)   # Greater than\n",
    "print(a < b)   # Less than  \n",
    "print(a >= b)  # Greater than or equal to\n",
    "print(a <= b)  # Less than or equal to  "
   ]
  },
  {
   "cell_type": "code",
   "execution_count": 38,
   "id": "a7ca2740",
   "metadata": {},
   "outputs": [
    {
     "name": "stdout",
     "output_type": "stream",
     "text": [
      "True\n",
      "False\n",
      "False\n"
     ]
    }
   ],
   "source": [
    "x,y = 5,6\n",
    "\n",
    "print(x>1) and (y<10)\n",
    "print(x<1) or (y<10)\n",
    "print(not(x>1))"
   ]
  },
  {
   "cell_type": "code",
   "execution_count": null,
   "id": "eded75be",
   "metadata": {},
   "outputs": [
    {
     "name": "stdout",
     "output_type": "stream",
     "text": [
      "True\n",
      "False\n"
     ]
    }
   ],
   "source": [
    "x,y,z = 10,5,20\n",
    "print(x>5 or y<10 and z>20) # piority of and is higher than or\n",
    "print((x>5 or y<10 )and z>20) # Parentheses change the order of evaluation , brackets are evaluated first\n"
   ]
  },
  {
   "cell_type": "code",
   "execution_count": null,
   "id": "fc91ce2e",
   "metadata": {},
   "outputs": [
    {
     "name": "stdout",
     "output_type": "stream",
     "text": [
      "False\n",
      "True\n",
      "True\n"
     ]
    }
   ],
   "source": [
    "x,y = 5,6\n",
    "print(x is y)  # Identity operator, checks if both operands refer to the same object\n",
    "print(x is not y)  # Identity operator, checks if both operands do not refer to the same object\n",
    "\n",
    "\n",
    "x = 5\n",
    "y = x\n",
    "\n",
    "print(x is y)  # True, because both x and y refer to the same object\n",
    "\n"
   ]
  },
  {
   "cell_type": "code",
   "execution_count": null,
   "id": "c57148c5",
   "metadata": {},
   "outputs": [
    {
     "name": "stdout",
     "output_type": "stream",
     "text": [
      "True\n"
     ]
    }
   ],
   "source": [
    "x = 5 \n",
    "y = 5\n",
    "print(x is y) "
   ]
  },
  {
   "cell_type": "code",
   "execution_count": 51,
   "id": "97c724de",
   "metadata": {},
   "outputs": [
    {
     "name": "stdout",
     "output_type": "stream",
     "text": [
      "True\n",
      "False\n",
      "False\n",
      "True\n"
     ]
    }
   ],
   "source": [
    "nums = [1, 2, 3, 4, 5]\n",
    "print(1 in nums) \n",
    "print(10 in nums)\n",
    "\n",
    "\n",
    "print(1 not in nums)\n",
    "print(10 not in nums)"
   ]
  },
  {
   "cell_type": "code",
   "execution_count": 54,
   "id": "fd7fe254",
   "metadata": {},
   "outputs": [
    {
     "name": "stdout",
     "output_type": "stream",
     "text": [
      "-6\n",
      "0\n"
     ]
    }
   ],
   "source": [
    "x = 5 \n",
    "y = 10\n",
    "\n",
    "print(~x)\n",
    "z = x & y  \n",
    "print(z) \n",
    "\n"
   ]
  },
  {
   "cell_type": "code",
   "execution_count": null,
   "id": "21308320",
   "metadata": {},
   "outputs": [
    {
     "name": "stdout",
     "output_type": "stream",
     "text": [
      "n is even\n"
     ]
    }
   ],
   "source": [
    "n = 16 \n",
    "\n",
    "if n % 2 == 0:   # Check if n is even\n",
    "    print(\"n is even\")"
   ]
  },
  {
   "cell_type": "code",
   "execution_count": 57,
   "id": "3aa77c2e",
   "metadata": {},
   "outputs": [
    {
     "name": "stdout",
     "output_type": "stream",
     "text": [
      "n is odd\n"
     ]
    }
   ],
   "source": [
    "n = 13\n",
    "\n",
    "if n % 2 == 0:\n",
    "    print(\"n is even\")\n",
    "else:\n",
    "    print(\"n is odd\")"
   ]
  },
  {
   "cell_type": "code",
   "execution_count": null,
   "id": "988b960b",
   "metadata": {},
   "outputs": [
    {
     "name": "stdout",
     "output_type": "stream",
     "text": [
      "non empty list\n"
     ]
    }
   ],
   "source": [
    "list = [1, 2, 3, 4, 5]  # Create a non-empty list\n",
    "\n",
    "if list:  \n",
    "    print(\"non empty list\")\n",
    "else:\n",
    "    print(\"empty list\")"
   ]
  },
  {
   "cell_type": "code",
   "execution_count": 74,
   "id": "1142b25a",
   "metadata": {},
   "outputs": [
    {
     "name": "stdout",
     "output_type": "stream",
     "text": [
      "31.400000000000002\n"
     ]
    }
   ],
   "source": [
    "r = radious = 5\n",
    "c = circumference = 2 * 3.14 * r\n",
    "\n",
    "if r<=0:\n",
    "    print(\"The radius is positive\")\n",
    "else:\n",
    "    circumference = 2 * 3.14 * r\n",
    "    print(circumference)"
   ]
  },
  {
   "cell_type": "code",
   "execution_count": 76,
   "id": "cc437776",
   "metadata": {},
   "outputs": [
    {
     "name": "stdout",
     "output_type": "stream",
     "text": [
      "Circumference of the circle is 31.400000000000002\n"
     ]
    }
   ],
   "source": [
    "PI_VALUE = 3.14\n",
    "radious = 5\n",
    "\n",
    "if radious <= 0:\n",
    "    print(\"The radius is positive\")\n",
    "else:\n",
    "    circumference = 2 * PI_VALUE * radious\n",
    "    print(\"Circumference of the circle is\",circumference)"
   ]
  },
  {
   "cell_type": "code",
   "execution_count": 84,
   "id": "7691fc28",
   "metadata": {},
   "outputs": [
    {
     "name": "stdout",
     "output_type": "stream",
     "text": [
      "The hypotenuse is 5.0\n"
     ]
    }
   ],
   "source": [
    "a = 3\n",
    "b = 4\n",
    "if a <= 0 or b <= 0:\n",
    "    print(\"side lengths must be positive\")\n",
    "else:\n",
    "    hypotenuse = (a**2 + b**2)**0.5\n",
    "    print(\"The hypotenuse is\", hypotenuse)"
   ]
  }
 ],
 "metadata": {
  "kernelspec": {
   "display_name": "Python 3",
   "language": "python",
   "name": "python3"
  },
  "language_info": {
   "codemirror_mode": {
    "name": "ipython",
    "version": 3
   },
   "file_extension": ".py",
   "mimetype": "text/x-python",
   "name": "python",
   "nbconvert_exporter": "python",
   "pygments_lexer": "ipython3",
   "version": "3.13.3"
  }
 },
 "nbformat": 4,
 "nbformat_minor": 5
}
