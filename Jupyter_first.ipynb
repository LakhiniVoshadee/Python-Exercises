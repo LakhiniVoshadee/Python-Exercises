{
 "cells": [
  {
   "cell_type": "code",
   "execution_count": 1,
   "id": "8129bb11",
   "metadata": {},
   "outputs": [
    {
     "name": "stdout",
     "output_type": "stream",
     "text": [
      "30\n"
     ]
    }
   ],
   "source": [
    "a = 10\n",
    "b = 20\n",
    "\n",
    "print(a+b)"
   ]
  },
  {
   "cell_type": "code",
   "execution_count": 2,
   "id": "8b61ae1d",
   "metadata": {},
   "outputs": [
    {
     "name": "stdout",
     "output_type": "stream",
     "text": [
      "25\n",
      "<class 'int'>\n"
     ]
    }
   ],
   "source": [
    "num = 25\n",
    "print(num)\n",
    "print(type(num))"
   ]
  },
  {
   "cell_type": "code",
   "execution_count": 3,
   "id": "94d7f3e7",
   "metadata": {},
   "outputs": [
    {
     "ename": "SyntaxError",
     "evalue": "invalid decimal literal (2630181296.py, line 1)",
     "output_type": "error",
     "traceback": [
      "  \u001b[36mCell\u001b[39m\u001b[36m \u001b[39m\u001b[32mIn[3]\u001b[39m\u001b[32m, line 1\u001b[39m\n\u001b[31m    \u001b[39m\u001b[31m2num = 20\u001b[39m\n    ^\n\u001b[31mSyntaxError\u001b[39m\u001b[31m:\u001b[39m invalid decimal literal\n"
     ]
    }
   ],
   "source": [
    "2num = 20\n",
    "_num = 30"
   ]
  },
  {
   "cell_type": "code",
   "execution_count": 4,
   "id": "76b2a36b",
   "metadata": {},
   "outputs": [
    {
     "name": "stdout",
     "output_type": "stream",
     "text": [
      "800\n"
     ]
    }
   ],
   "source": [
    "num_1 =80\n",
    "num_2 = 10\n",
    "\n",
    "print(num_1 * num_2)"
   ]
  },
  {
   "cell_type": "code",
   "execution_count": 5,
   "id": "1caecfed",
   "metadata": {},
   "outputs": [
    {
     "name": "stdout",
     "output_type": "stream",
     "text": [
      "<class 'float'>\n"
     ]
    }
   ],
   "source": [
    "num_2=20.5\n",
    "print(type(num_2))"
   ]
  },
  {
   "cell_type": "code",
   "execution_count": 6,
   "id": "a6da4719",
   "metadata": {},
   "outputs": [
    {
     "name": "stdout",
     "output_type": "stream",
     "text": [
      "<class 'complex'>\n"
     ]
    }
   ],
   "source": [
    "A = 10 + 20J\n",
    "\n",
    "print(type(A))"
   ]
  },
  {
   "cell_type": "code",
   "execution_count": 7,
   "id": "dc968d31",
   "metadata": {},
   "outputs": [
    {
     "name": "stdout",
     "output_type": "stream",
     "text": [
      "2500000000000.0\n",
      "<class 'float'>\n"
     ]
    }
   ],
   "source": [
    "NUM_3 = 2.5e12\n",
    "print(NUM_3)\n",
    "print(type(NUM_3))"
   ]
  },
  {
   "cell_type": "code",
   "execution_count": 9,
   "id": "d4291c6f",
   "metadata": {},
   "outputs": [
    {
     "name": "stdout",
     "output_type": "stream",
     "text": [
      "7 <class 'int'>\n",
      "7.0 <class 'float'>\n"
     ]
    }
   ],
   "source": [
    "x = 7\n",
    "a = float(x)\n",
    "\n",
    "print(x, type(x))\n",
    "print(a, type(a))"
   ]
  },
  {
   "cell_type": "code",
   "execution_count": 10,
   "id": "23291daf",
   "metadata": {},
   "outputs": [
    {
     "name": "stdout",
     "output_type": "stream",
     "text": [
      "20.8 <class 'float'>\n",
      "20 <class 'int'>\n"
     ]
    }
   ],
   "source": [
    "y = 20.8\n",
    "b = int(y)\n",
    "\n",
    "print(y, type(y))\n",
    "print(b, type(b))"
   ]
  },
  {
   "cell_type": "code",
   "execution_count": 11,
   "id": "451e38d4",
   "metadata": {},
   "outputs": [
    {
     "name": "stdout",
     "output_type": "stream",
     "text": [
      "[10, 5, 'John', 6.2, True]\n",
      "<class 'list'>\n"
     ]
    }
   ],
   "source": [
    "my_list = [10, 5, \"John\", 6.2, True]\n",
    "\n",
    "print(my_list)\n",
    "print(type(my_list))"
   ]
  },
  {
   "cell_type": "code",
   "execution_count": null,
   "id": "87956005",
   "metadata": {},
   "outputs": [
    {
     "name": "stdout",
     "output_type": "stream",
     "text": [
      "5\n"
     ]
    }
   ],
   "source": [
    "#Indexing the list\n",
    "\n",
    "my_list = [10, 5, \"John\", 6.2, True]\n",
    "\n",
    "print(my_list[1])\n"
   ]
  },
  {
   "cell_type": "code",
   "execution_count": null,
   "id": "58113daf",
   "metadata": {},
   "outputs": [
    {
     "name": "stdout",
     "output_type": "stream",
     "text": [
      "True\n",
      "John\n"
     ]
    }
   ],
   "source": [
    "#Negative indexing\n",
    "\n",
    "my_list = [10, 5, \"John\", 6.2, True]\n",
    "\n",
    "print(my_list[-1])  \n",
    "print(my_list[-3])"
   ]
  },
  {
   "cell_type": "code",
   "execution_count": null,
   "id": "a34b0e16",
   "metadata": {},
   "outputs": [
    {
     "name": "stdout",
     "output_type": "stream",
     "text": [
      "[5, 'John', 6.2]\n"
     ]
    }
   ],
   "source": [
    "#Sublist\n",
    "\n",
    "my_list = [10, 5, \"John\", 6.2, True]\n",
    "\n",
    "print(my_list[1:4]) # Prints elements from index 1 to 3"
   ]
  },
  {
   "cell_type": "code",
   "execution_count": null,
   "id": "998ba01d",
   "metadata": {},
   "outputs": [
    {
     "name": "stdout",
     "output_type": "stream",
     "text": [
      "[10, 5, 'John']\n"
     ]
    }
   ],
   "source": [
    "\n",
    "my_list = [10, 5, \"John\", 6.2, True]\n",
    "print(my_list[:3])  # Prints elements from the start to index 2"
   ]
  },
  {
   "cell_type": "code",
   "execution_count": null,
   "id": "5091b6de",
   "metadata": {},
   "outputs": [
    {
     "name": "stdout",
     "output_type": "stream",
     "text": [
      "['John', 6.2, True]\n"
     ]
    }
   ],
   "source": [
    "my_list = [10, 5, \"John\", 6.2, True]\n",
    "print(my_list[2:]) # Prints elements from index 2 to the end"
   ]
  },
  {
   "cell_type": "code",
   "execution_count": 19,
   "id": "5587e151",
   "metadata": {},
   "outputs": [
    {
     "name": "stdout",
     "output_type": "stream",
     "text": [
      "[10, 5]\n"
     ]
    }
   ],
   "source": [
    "my_list = [10, 5, \"John\", 6.2, True]\n",
    "print(my_list[:-3])  # Prints elements from the start to index -4"
   ]
  },
  {
   "cell_type": "code",
   "execution_count": null,
   "id": "e0764669",
   "metadata": {},
   "outputs": [
    {
     "name": "stdout",
     "output_type": "stream",
     "text": [
      "[10, 5, 'John', 6.2, True, 5]\n"
     ]
    }
   ],
   "source": [
    "my_list = [10, 5, \"John\", 6.2, True, 5]\n",
    "\n",
    "print(my_list) #Prints duplicate elements"
   ]
  },
  {
   "cell_type": "code",
   "execution_count": 21,
   "id": "8a56dc95",
   "metadata": {},
   "outputs": [
    {
     "name": "stdout",
     "output_type": "stream",
     "text": [
      "[10, 5, 'Doe', 6.2, True, 5]\n"
     ]
    }
   ],
   "source": [
    "my_list[2] = \"Doe\"  # Changing the value at index 2\n",
    "print(my_list)  # Prints the updated list\n"
   ]
  },
  {
   "cell_type": "code",
   "execution_count": 27,
   "id": "eb58c4f6",
   "metadata": {},
   "outputs": [
    {
     "name": "stdout",
     "output_type": "stream",
     "text": [
      "[10, 5, 'Kate', 9.4, False, 5]\n"
     ]
    }
   ],
   "source": [
    "my_list[2], my_list[3], my_list[4] = \"Kate\" , 9.4 , False\n",
    "print(my_list)"
   ]
  },
  {
   "cell_type": "code",
   "execution_count": 29,
   "id": "af56a744",
   "metadata": {},
   "outputs": [
    {
     "name": "stdout",
     "output_type": "stream",
     "text": [
      "[10, 5, 'Kateee', 9.8, True, 5]\n"
     ]
    }
   ],
   "source": [
    "my_list[2:5] = [\"Kateee\",9.8,True]\n",
    "print(my_list)"
   ]
  },
  {
   "cell_type": "code",
   "execution_count": 30,
   "id": "8e854b71",
   "metadata": {},
   "outputs": [
    {
     "name": "stdout",
     "output_type": "stream",
     "text": [
      "[10, 5, 'Kateee', 9.8, True, 5, 'Cat']\n"
     ]
    }
   ],
   "source": [
    "my_list.append(\"Cat\")\n",
    "\n",
    "print(my_list)"
   ]
  },
  {
   "cell_type": "code",
   "execution_count": 32,
   "id": "355764e9",
   "metadata": {},
   "outputs": [
    {
     "name": "stdout",
     "output_type": "stream",
     "text": [
      "[10, 5, 'Dog', 'Dog', 'Kateee', 9.8, True, 5, 'Cat']\n"
     ]
    }
   ],
   "source": [
    "my_list.insert(3, \"Dog\")  # Inserts \"Dog\" at index 2\n",
    "print(my_list)"
   ]
  },
  {
   "cell_type": "code",
   "execution_count": 33,
   "id": "01127b81",
   "metadata": {},
   "outputs": [
    {
     "name": "stdout",
     "output_type": "stream",
     "text": [
      "[10, 5, 'Smith', 9.4, False, 5, 'Dog']\n"
     ]
    }
   ],
   "source": [
    "my_list = [10, 5, \"Smith\", 9.4, False, 5, \"Dog\" ]\n",
    "print(my_list)"
   ]
  },
  {
   "cell_type": "code",
   "execution_count": 34,
   "id": "3a818cde",
   "metadata": {},
   "outputs": [
    {
     "name": "stdout",
     "output_type": "stream",
     "text": [
      "[10, 6, 4, 3, 2, 25, 10, 20]\n"
     ]
    }
   ],
   "source": [
    "my_list_1 = [10,6,4,3,2]\n",
    "my_list_2 = [25,10,20]\n",
    "\n",
    "my_list_1.extend(my_list_2)  # Extends my_list_1 with elements from my_list_2\n",
    "print(my_list_1)"
   ]
  },
  {
   "cell_type": "code",
   "execution_count": 36,
   "id": "a54b5339",
   "metadata": {},
   "outputs": [
    {
     "name": "stdout",
     "output_type": "stream",
     "text": [
      "[10, 'Cat', 5, 'apple', 28]\n",
      "[10, 5, 'apple', 28]\n"
     ]
    }
   ],
   "source": [
    "my_list = [10, \"Cat\", 5, \"apple\", 28]\n",
    "print(my_list)\n",
    "my_list.remove(\"Cat\")  # Removes the first occurrence of \"Cat\"\n",
    "print(my_list)"
   ]
  },
  {
   "cell_type": "code",
   "execution_count": 39,
   "id": "a5a3609f",
   "metadata": {},
   "outputs": [
    {
     "name": "stdout",
     "output_type": "stream",
     "text": [
      "[10, 'apple', 28]\n"
     ]
    }
   ],
   "source": [
    "\n",
    "my_list.pop(1)  # Removes the element at index 1\n",
    "print(my_list)"
   ]
  },
  {
   "cell_type": "code",
   "execution_count": null,
   "id": "edd85a40",
   "metadata": {},
   "outputs": [
    {
     "name": "stdout",
     "output_type": "stream",
     "text": [
      "['Amal', 'Binu', 'Chamara']\n",
      "['Amal', 'Binu', 'Chamara', 'Dilani']\n",
      "['Amal', 'Binu', 'Eshan', 'Chamara', 'Dilani']\n",
      "['Binu', 'Eshan', 'Chamara', 'Dilani']\n",
      "['Farah', 'Binu', 'Eshan', 'Chamara', 'Dilani']\n"
     ]
    }
   ],
   "source": [
    "student = [\"Amal\",\"Binu\",\"Chamara\"]\n",
    "print(student)\n",
    "\n",
    "student.insert(3, \"Dilani\")  # Corrected syntax for inserting \"Dilani\"\n",
    "print(student)\n",
    "\n",
    "student.insert(2, \"Eshan\")  # Corrected syntax for inserting \"Eshan\" between Binu and Chamara\n",
    "print(student)\n",
    "\n",
    "student.remove(\"Amal\")  # Removes \"Amal\" from the list\n",
    "print(student)\n",
    "\n",
    "student.insert(0, \"Farah\")  # Inserts \"Farah\" at the beginning of the list\n",
    "print(student)\n",
    "\n"
   ]
  },
  {
   "cell_type": "code",
   "execution_count": 50,
   "id": "61bf5296",
   "metadata": {},
   "outputs": [
    {
     "name": "stdout",
     "output_type": "stream",
     "text": [
      "['Amal', 'Binu', 'Chamara']\n",
      "['Amal', 'Binu', 'Chamara', 'Dilani']\n",
      "['Amal', 'Binu', 'Eshan', 'Chamara', 'Dilani']\n",
      "['Binu', 'Eshan', 'Chamara', 'Dilani']\n",
      "['Farah', 'Binu', 'Eshan', 'Chamara', 'Dilani']\n",
      "5\n"
     ]
    }
   ],
   "source": [
    "student = [\"Amal\",\"Binu\",\"Chamara\"]\n",
    "print(student)\n",
    "\n",
    "student.insert(3, \"Dilani\")  \n",
    "print(student)\n",
    "\n",
    "student.insert(2, \"Eshan\")  \n",
    "print(student)\n",
    "\n",
    "student.remove(\"Amal\") \n",
    "print(student)\n",
    "\n",
    "student.insert(0, \"Farah\")  \n",
    "print(student)\n",
    "\n",
    "print(len(student))  # Prints the length of the student list\n",
    "\n"
   ]
  },
  {
   "cell_type": "code",
   "execution_count": 56,
   "id": "2245ac80",
   "metadata": {},
   "outputs": [
    {
     "name": "stdout",
     "output_type": "stream",
     "text": [
      "[10, 5, 'John', 6.2, True]\n",
      "[10, 5, 6.2, True]\n"
     ]
    }
   ],
   "source": [
    "my_list = [10, 5, \"John\", 6.2, True]\n",
    "print(my_list)\n",
    "del my_list[2]  # Deletes the element at index 2\n",
    "print(my_list)  # Prints the updated list after deletion"
   ]
  },
  {
   "cell_type": "code",
   "execution_count": 57,
   "id": "02fb7513",
   "metadata": {},
   "outputs": [
    {
     "name": "stdout",
     "output_type": "stream",
     "text": [
      "[10, 5, 'John', 6.2, True]\n"
     ]
    },
    {
     "ename": "NameError",
     "evalue": "name 'my_list' is not defined",
     "output_type": "error",
     "traceback": [
      "\u001b[31m---------------------------------------------------------------------------\u001b[39m",
      "\u001b[31mNameError\u001b[39m                                 Traceback (most recent call last)",
      "\u001b[36mCell\u001b[39m\u001b[36m \u001b[39m\u001b[32mIn[57]\u001b[39m\u001b[32m, line 4\u001b[39m\n\u001b[32m      2\u001b[39m \u001b[38;5;28mprint\u001b[39m(my_list)\n\u001b[32m      3\u001b[39m \u001b[38;5;28;01mdel\u001b[39;00m my_list\n\u001b[32m----> \u001b[39m\u001b[32m4\u001b[39m \u001b[38;5;28mprint\u001b[39m(\u001b[38;5;28mlen\u001b[39m(\u001b[43mmy_list\u001b[49m))  \u001b[38;5;66;03m# This will raise an error because my_list is deleted\u001b[39;00m\n",
      "\u001b[31mNameError\u001b[39m: name 'my_list' is not defined"
     ]
    }
   ],
   "source": [
    "my_list = [10, 5, \"John\", 6.2, True]\n",
    "print(my_list)\n",
    "del my_list\n",
    "print(len(my_list))  # This will raise an error because my_list is deleted"
   ]
  },
  {
   "cell_type": "code",
   "execution_count": 59,
   "id": "037a17c8",
   "metadata": {},
   "outputs": [
    {
     "name": "stdout",
     "output_type": "stream",
     "text": [
      "[25, 10, 20, 30, 40]\n",
      "[]\n",
      "0\n"
     ]
    }
   ],
   "source": [
    "my_list = [25, 10, 20, 30, 40]\n",
    "print(my_list)\n",
    "my_list.clear()  # Clears all elements from the list\n",
    "print(my_list)  # Prints an empty list after clearing\n",
    "print(len(my_list))  # Prints the length of the list, which is now 0"
   ]
  },
  {
   "cell_type": "code",
   "execution_count": null,
   "id": "0815d501",
   "metadata": {},
   "outputs": [
    {
     "name": "stdout",
     "output_type": "stream",
     "text": [
      "['apple', 'banana', 'cherry', 'kiwi', 'mango']\n"
     ]
    }
   ],
   "source": [
    "my_list = [\"banana\", \"apple\", \"cherry\", \"kiwi\", \"mango\"]\n",
    "my_list.sort()  # Sorts the list in ascending order albhabetically\n",
    "print(my_list)  # Prints the sorted list"
   ]
  },
  {
   "cell_type": "code",
   "execution_count": null,
   "id": "3f633cd2",
   "metadata": {},
   "outputs": [
    {
     "name": "stdout",
     "output_type": "stream",
     "text": [
      "['Apple', 'Cherry', 'banana', 'kiwi', 'mango']\n"
     ]
    }
   ],
   "source": [
    "my_list = [\"banana\", \"Apple\", \"Cherry\", \"kiwi\", \"mango\"] #case-sensitive sorting\n",
    "my_list.sort()  # Sorts the list in ascending order albhabetically\n",
    "print(my_list)  "
   ]
  },
  {
   "cell_type": "code",
   "execution_count": 63,
   "id": "681ba0d3",
   "metadata": {},
   "outputs": [
    {
     "name": "stdout",
     "output_type": "stream",
     "text": [
      "[24, 13, 12, 11, 10, 8]\n"
     ]
    }
   ],
   "source": [
    "num_list = [10, 8, 24, 12, 13, 11]\n",
    "num_list.sort(reverse=True)  # Sorts the list in descending order\n",
    "print(num_list)"
   ]
  },
  {
   "cell_type": "code",
   "execution_count": 64,
   "id": "80150a30",
   "metadata": {},
   "outputs": [
    {
     "name": "stdout",
     "output_type": "stream",
     "text": [
      "[10, 12, 9, 4, 3]\n",
      "[10, 12, 22, 4, 3]\n",
      "[10, 12, 22, 4, 3]\n"
     ]
    }
   ],
   "source": [
    "my_list_1 = [10, 12, 9, 4, 3]\n",
    "print(my_list_1)\n",
    "my_list_2 = my_list_1\n",
    "my_list_1[2] = 22\n",
    "print(my_list_1)  # Prints the updated my_list_1\n",
    "print(my_list_2)  # Prints the updated my_list_2, which reflects the change in my_list_1"
   ]
  },
  {
   "cell_type": "code",
   "execution_count": 68,
   "id": "dbe4303a",
   "metadata": {},
   "outputs": [
    {
     "name": "stdout",
     "output_type": "stream",
     "text": [
      "[10, 12, 9, 4, 3] [10, 12, 9, 4, 3]\n",
      "[10, 15, 9, 4, 3] [10, 12, 9, 4, 3]\n"
     ]
    }
   ],
   "source": [
    "my_list_1 = [10, 12, 9, 4, 3]\n",
    "my_list_2 = my_list_1.copy() \n",
    "print(my_list_1,my_list_2)\n",
    "my_list_1[1] = 15  \n",
    "print(my_list_1,my_list_2)  \n",
    "  "
   ]
  },
  {
   "cell_type": "code",
   "execution_count": 69,
   "id": "794eff06",
   "metadata": {},
   "outputs": [
    {
     "name": "stdout",
     "output_type": "stream",
     "text": [
      "[3, 4, 9, 12, 10]\n"
     ]
    }
   ],
   "source": [
    "my_list_1 = [10, 12, 9, 4, 3]\n",
    "my_list_1.reverse()  # Reverses the order of elements in my_list_1\n",
    "print(my_list_1)  # Prints the reversed list"
   ]
  },
  {
   "cell_type": "code",
   "execution_count": 70,
   "id": "4eb442e8",
   "metadata": {},
   "outputs": [
    {
     "name": "stdout",
     "output_type": "stream",
     "text": [
      "[10, 12, 9, 4, 3, 10, 12, 9, 4, 3]\n"
     ]
    }
   ],
   "source": [
    "my_list_1 = [10, 12, 9, 4, 3]\n",
    "my_list_2 = [10, 12, 9, 4, 3]\n",
    "new_list = my_list_1 + my_list_2  # Concatenates my_list_1 and my_list_2\n",
    "print(new_list)  # Prints the concatenated list"
   ]
  }
 ],
 "metadata": {
  "kernelspec": {
   "display_name": "Python 3",
   "language": "python",
   "name": "python3"
  },
  "language_info": {
   "codemirror_mode": {
    "name": "ipython",
    "version": 3
   },
   "file_extension": ".py",
   "mimetype": "text/x-python",
   "name": "python",
   "nbconvert_exporter": "python",
   "pygments_lexer": "ipython3",
   "version": "3.13.3"
  }
 },
 "nbformat": 4,
 "nbformat_minor": 5
}
