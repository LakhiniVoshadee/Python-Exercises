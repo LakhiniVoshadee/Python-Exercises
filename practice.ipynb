{
 "cells": [
  {
   "cell_type": "code",
   "execution_count": 1,
   "id": "2115f22b",
   "metadata": {},
   "outputs": [
    {
     "name": "stdout",
     "output_type": "stream",
     "text": [
      "30\n"
     ]
    }
   ],
   "source": [
    "a = 10\n",
    "b = 20\n",
    "\n",
    "print( a + b)"
   ]
  },
  {
   "cell_type": "code",
   "execution_count": 2,
   "id": "eeb345ff",
   "metadata": {},
   "outputs": [
    {
     "name": "stdout",
     "output_type": "stream",
     "text": [
      "[1, 2, 3]\n"
     ]
    }
   ],
   "source": [
    "a = [1,2,3]\n",
    "b = a[:]\n",
    "b.append(4)\n",
    "print(a)"
   ]
  },
  {
   "cell_type": "code",
   "execution_count": 4,
   "id": "7907cf90",
   "metadata": {},
   "outputs": [
    {
     "name": "stdout",
     "output_type": "stream",
     "text": [
      "[5, 2, 9, 1]\n",
      "[1, 2, 5, 9]\n"
     ]
    }
   ],
   "source": [
    "x = [5,2,9,1]\n",
    "y = sorted(x)\n",
    "print(x)\n",
    "print(y)"
   ]
  },
  {
   "cell_type": "code",
   "execution_count": 5,
   "id": "c4811643",
   "metadata": {},
   "outputs": [
    {
     "name": "stdout",
     "output_type": "stream",
     "text": [
      "[1, 2, 3, 1, 2, 3]\n"
     ]
    }
   ],
   "source": [
    "x = [1, 2, 3]\n",
    "print(x * 2)"
   ]
  },
  {
   "cell_type": "code",
   "execution_count": 6,
   "id": "15b791fe",
   "metadata": {},
   "outputs": [
    {
     "name": "stdout",
     "output_type": "stream",
     "text": [
      "[4, 3, 2, 1]\n"
     ]
    }
   ],
   "source": [
    "nums = [4,3,2,1]\n",
    "nums.sort(reverse=True)\n",
    "print(nums)"
   ]
  },
  {
   "cell_type": "code",
   "execution_count": 7,
   "id": "9bbd6625",
   "metadata": {},
   "outputs": [
    {
     "name": "stdout",
     "output_type": "stream",
     "text": [
      "['a', 'd', 'b', 'c']\n"
     ]
    }
   ],
   "source": [
    "x = [\"a\", \"b\", \"c\"]\n",
    "x.insert(1, \"d\")\n",
    "print(x)"
   ]
  },
  {
   "cell_type": "code",
   "execution_count": null,
   "id": "5ca21d74",
   "metadata": {},
   "outputs": [],
   "source": []
  },
  {
   "cell_type": "code",
   "execution_count": 2,
   "id": "0520fc0f",
   "metadata": {},
   "outputs": [
    {
     "name": "stdout",
     "output_type": "stream",
     "text": [
      "25\n",
      "<class 'int'>\n"
     ]
    }
   ],
   "source": [
    "num = 25\n",
    "print(num)\n",
    "print(type(num))\n"
   ]
  },
  {
   "cell_type": "code",
   "execution_count": 3,
   "id": "058a1546",
   "metadata": {},
   "outputs": [
    {
     "name": "stdout",
     "output_type": "stream",
     "text": [
      "20.8 <class 'float'>\n",
      "20 <class 'int'>\n"
     ]
    }
   ],
   "source": [
    "y = 20.8\n",
    "b = int(y)\n",
    "\n",
    "print(y,type(y))\n",
    "print(b,type(b))"
   ]
  },
  {
   "cell_type": "code",
   "execution_count": 4,
   "id": "91b54458",
   "metadata": {},
   "outputs": [
    {
     "name": "stdout",
     "output_type": "stream",
     "text": [
      "[10, 5, 'John', 6.2, True]\n",
      "<class 'list'>\n"
     ]
    }
   ],
   "source": [
    "my_list = [10, 5, \"John\", 6.2, True]\n",
    "\n",
    "print(my_list)\n",
    "print(type(my_list))"
   ]
  },
  {
   "cell_type": "code",
   "execution_count": 5,
   "id": "81778e84",
   "metadata": {},
   "outputs": [
    {
     "name": "stdout",
     "output_type": "stream",
     "text": [
      "5\n"
     ]
    }
   ],
   "source": [
    "my_list = [10, 5, \"John\", 6.2, True, 10]\n",
    "\n",
    "print(my_list[1])"
   ]
  },
  {
   "cell_type": "code",
   "execution_count": 6,
   "id": "515b1395",
   "metadata": {},
   "outputs": [
    {
     "name": "stdout",
     "output_type": "stream",
     "text": [
      "10\n",
      "True\n"
     ]
    }
   ],
   "source": [
    "my_list = [10, 5, \"John\", 6.2, True, 10]\n",
    "\n",
    "print(my_list[-1])\n",
    "print(my_list[-2])"
   ]
  },
  {
   "cell_type": "code",
   "execution_count": 7,
   "id": "4d303ddf",
   "metadata": {},
   "outputs": [
    {
     "name": "stdout",
     "output_type": "stream",
     "text": [
      "[5, 'John', 6.2]\n"
     ]
    }
   ],
   "source": [
    "my_list = [10, 5, \"John\", 6.2, True, 10]\n",
    "\n",
    "print(my_list[1:4])"
   ]
  },
  {
   "cell_type": "code",
   "execution_count": 8,
   "id": "b348921f",
   "metadata": {},
   "outputs": [
    {
     "name": "stdout",
     "output_type": "stream",
     "text": [
      "[10, 5, 'John']\n"
     ]
    }
   ],
   "source": [
    "my_list = [10, 5, \"John\", 6.2, True, 10]\n",
    "\n",
    "print(my_list[:3])"
   ]
  },
  {
   "cell_type": "code",
   "execution_count": 10,
   "id": "d254d152",
   "metadata": {},
   "outputs": [
    {
     "name": "stdout",
     "output_type": "stream",
     "text": [
      "[10, 5, 'John']\n"
     ]
    }
   ],
   "source": [
    "my_list = [10, 5, \"John\", 6.2, True, 10]\n",
    "\n",
    "print(my_list[:-3])"
   ]
  },
  {
   "cell_type": "code",
   "execution_count": 11,
   "id": "15cd9629",
   "metadata": {},
   "outputs": [
    {
     "name": "stdout",
     "output_type": "stream",
     "text": [
      "[10, 5, 'Doe', 6.2, True, 10]\n"
     ]
    }
   ],
   "source": [
    "my_list[2] = \"Doe\"\n",
    "print(my_list)"
   ]
  },
  {
   "cell_type": "code",
   "execution_count": 12,
   "id": "36087f80",
   "metadata": {},
   "outputs": [
    {
     "name": "stdout",
     "output_type": "stream",
     "text": [
      "[10, 5, 'Smith', 7.5, False, 10]\n"
     ]
    }
   ],
   "source": [
    "my_list[2:5] = [\"Smith\", 7.5, False]\n",
    "print(my_list)"
   ]
  },
  {
   "cell_type": "code",
   "execution_count": 13,
   "id": "ab3cc2a2",
   "metadata": {},
   "outputs": [
    {
     "name": "stdout",
     "output_type": "stream",
     "text": [
      "[10, 5, 'Smith', 7.5, False, 10, 10]\n"
     ]
    }
   ],
   "source": [
    "my_list.append(10)\n",
    "print(my_list)"
   ]
  },
  {
   "cell_type": "code",
   "execution_count": 14,
   "id": "319e4945",
   "metadata": {},
   "outputs": [
    {
     "name": "stdout",
     "output_type": "stream",
     "text": [
      "[10, 5, 'Smith', 'Lakhini', 7.5, False, 10, 10]\n"
     ]
    }
   ],
   "source": [
    "my_list.insert(3, \"Lakhini\")\n",
    "print(my_list)"
   ]
  },
  {
   "cell_type": "code",
   "execution_count": 15,
   "id": "fd66e2c1",
   "metadata": {},
   "outputs": [
    {
     "name": "stdout",
     "output_type": "stream",
     "text": [
      "[10, 5, 'Smith', 9.4, False, 5, 'Dog']\n"
     ]
    }
   ],
   "source": [
    "my_list = [10, 5, \"Smith\", 9.4, False, 5, \"Dog\" ]\n",
    "print(my_list)"
   ]
  },
  {
   "cell_type": "code",
   "execution_count": 16,
   "id": "7c03960f",
   "metadata": {},
   "outputs": [
    {
     "name": "stdout",
     "output_type": "stream",
     "text": [
      "[10, 6, 4, 3, 2, 25, 10, 20]\n"
     ]
    }
   ],
   "source": [
    "my_list_1 = [10,6,4,3,2]\n",
    "my_list_2 = [25,10,20]\n",
    "\n",
    "my_list_1.extend(my_list_2)\n",
    "print(my_list_1)"
   ]
  },
  {
   "cell_type": "code",
   "execution_count": 18,
   "id": "333413b9",
   "metadata": {},
   "outputs": [
    {
     "name": "stdout",
     "output_type": "stream",
     "text": [
      "[10, 'Cat', 5, 'apple', 28]\n",
      "[10, 5, 'apple', 28]\n"
     ]
    }
   ],
   "source": [
    "my_list = [10, \"Cat\", 5, \"apple\", 28]\n",
    "print(my_list)\n",
    "my_list.remove(\"Cat\")\n",
    "print(my_list)"
   ]
  },
  {
   "cell_type": "code",
   "execution_count": 19,
   "id": "4047be02",
   "metadata": {},
   "outputs": [
    {
     "name": "stdout",
     "output_type": "stream",
     "text": [
      "[10, 'apple', 28]\n"
     ]
    }
   ],
   "source": [
    "my_list.pop(1)\n",
    "print(my_list)"
   ]
  },
  {
   "cell_type": "code",
   "execution_count": 21,
   "id": "eb3e0516",
   "metadata": {},
   "outputs": [
    {
     "name": "stdout",
     "output_type": "stream",
     "text": [
      "['Amal', 'Binu', 'Chamara']\n",
      "['Amal', 'Binu', 'Chamara', 'Dilandi']\n",
      "['Amal', 'Binu', 'Eshan', 'Chamara', 'Dilandi']\n",
      "['Binu', 'Eshan', 'Chamara', 'Dilandi']\n",
      "['Farah', 'Binu', 'Eshan', 'Chamara', 'Dilandi']\n",
      "5\n"
     ]
    }
   ],
   "source": [
    "student = [\"Amal\",\"Binu\",\"Chamara\"]\n",
    "print(student)\n",
    "\n",
    "student.append(\"Dilandi\")\n",
    "print(student)\n",
    "\n",
    "student.insert(2, \"Eshan\")\n",
    "print(student)\n",
    "\n",
    "student.remove(\"Amal\")\n",
    "print(student)\n",
    "\n",
    "student.insert(0, \"Farah\")\n",
    "print(student)\n",
    "\n",
    "\n",
    "print(len(student))\n"
   ]
  },
  {
   "cell_type": "code",
   "execution_count": 22,
   "id": "70719bc1",
   "metadata": {},
   "outputs": [
    {
     "name": "stdout",
     "output_type": "stream",
     "text": [
      "[10, 5, 'John', 6.2, True]\n",
      "[10, 5, 6.2, True]\n"
     ]
    }
   ],
   "source": [
    "my_list = [10, 5, \"John\", 6.2, True]\n",
    "print(my_list)\n",
    "\n",
    "del my_list[2]\n",
    "print(my_list)"
   ]
  },
  {
   "cell_type": "code",
   "execution_count": 23,
   "id": "a60c6de5",
   "metadata": {},
   "outputs": [
    {
     "name": "stdout",
     "output_type": "stream",
     "text": [
      "[10, 5, 'John', 6.2, True]\n"
     ]
    },
    {
     "ename": "NameError",
     "evalue": "name 'my_list' is not defined",
     "output_type": "error",
     "traceback": [
      "\u001b[31m---------------------------------------------------------------------------\u001b[39m",
      "\u001b[31mNameError\u001b[39m                                 Traceback (most recent call last)",
      "\u001b[36mCell\u001b[39m\u001b[36m \u001b[39m\u001b[32mIn[23]\u001b[39m\u001b[32m, line 4\u001b[39m\n\u001b[32m      2\u001b[39m \u001b[38;5;28mprint\u001b[39m(my_list)\n\u001b[32m      3\u001b[39m \u001b[38;5;28;01mdel\u001b[39;00m my_list\n\u001b[32m----> \u001b[39m\u001b[32m4\u001b[39m \u001b[38;5;28mprint\u001b[39m(\u001b[38;5;28mlen\u001b[39m(\u001b[43mmy_list\u001b[49m))  \u001b[38;5;66;03m# This will raise an error since my_list is deleted\u001b[39;00m\n",
      "\u001b[31mNameError\u001b[39m: name 'my_list' is not defined"
     ]
    }
   ],
   "source": [
    "my_list = [10, 5, \"John\", 6.2, True]\n",
    "print(my_list)\n",
    "del my_list\n",
    "print(len(my_list))  # This will raise an error since my_list is deleted"
   ]
  },
  {
   "cell_type": "code",
   "execution_count": 24,
   "id": "d543a619",
   "metadata": {},
   "outputs": [
    {
     "name": "stdout",
     "output_type": "stream",
     "text": [
      "[25, 10, 20, 30, 40]\n",
      "[]\n"
     ]
    }
   ],
   "source": [
    "my_list = [25, 10, 20, 30, 40]\n",
    "print(my_list)\n",
    "my_list.clear()\n",
    "print(my_list)  # This will print an empty list"
   ]
  },
  {
   "cell_type": "code",
   "execution_count": 25,
   "id": "663923e5",
   "metadata": {},
   "outputs": [
    {
     "name": "stdout",
     "output_type": "stream",
     "text": [
      "['apple', 'banana', 'cherry', 'kiwi', 'mango']\n"
     ]
    }
   ],
   "source": [
    "my_list = [\"banana\", \"apple\", \"cherry\", \"kiwi\", \"mango\"]\n",
    "my_list.sort()\n",
    "print(my_list)  # This will print the sorted list"
   ]
  },
  {
   "cell_type": "code",
   "execution_count": 26,
   "id": "3bd88bff",
   "metadata": {},
   "outputs": [
    {
     "name": "stdout",
     "output_type": "stream",
     "text": [
      "[24, 13, 12, 11, 10, 8]\n"
     ]
    }
   ],
   "source": [
    "num_list = [10, 8, 24, 12, 13, 11]\n",
    "num_list.sort(reverse=True)\n",
    "print(num_list)  # This will print the list sorted in descending order"
   ]
  },
  {
   "cell_type": "code",
   "execution_count": 3,
   "id": "cdb800bb",
   "metadata": {},
   "outputs": [
    {
     "name": "stdout",
     "output_type": "stream",
     "text": [
      "[1, 2, 3, 1, 2, 3, 1, 2, 3, 1, 2, 3]\n"
     ]
    }
   ],
   "source": [
    "x = [1, 2, 3]\n",
    "print(x * 4)\n"
   ]
  },
  {
   "cell_type": "code",
   "execution_count": 4,
   "id": "0505a1eb",
   "metadata": {},
   "outputs": [
    {
     "name": "stdout",
     "output_type": "stream",
     "text": [
      "[5, 2, 9, 1]\n",
      "[1, 2, 5, 9]\n"
     ]
    }
   ],
   "source": [
    "x = [5, 2, 9, 1]\n",
    "y = sorted(x)\n",
    "print(x)\n",
    "print(y)"
   ]
  },
  {
   "cell_type": "code",
   "execution_count": 6,
   "id": "92600fd7",
   "metadata": {},
   "outputs": [
    {
     "name": "stdout",
     "output_type": "stream",
     "text": [
      "[1, 3]\n"
     ]
    }
   ],
   "source": [
    "my_list = [1, 2, 3]; my_list.remove(2)\n",
    "print(my_list)"
   ]
  },
  {
   "cell_type": "code",
   "execution_count": 10,
   "id": "38ef63f2",
   "metadata": {},
   "outputs": [
    {
     "name": "stdout",
     "output_type": "stream",
     "text": [
      "[1, 2, 3, 4]\n"
     ]
    }
   ],
   "source": [
    "nums = [4, 3, 2, 1]\n",
    "nums.sort(reverse=False)\n",
    "print(nums)\n"
   ]
  },
  {
   "cell_type": "code",
   "execution_count": null,
   "id": "feb69f7b",
   "metadata": {},
   "outputs": [
    {
     "name": "stdout",
     "output_type": "stream",
     "text": [
      "{3}\n"
     ]
    }
   ],
   "source": [
    "a = {1, 2, 3}\n",
    "b = {3, 4, 5}\n",
    "print(a & b) \n"
   ]
  },
  {
   "cell_type": "code",
   "execution_count": 1,
   "id": "e2b59860",
   "metadata": {},
   "outputs": [
    {
     "name": "stdout",
     "output_type": "stream",
     "text": [
      "[10, 20, 30, 40]\n"
     ]
    }
   ],
   "source": [
    "#Q 1 Write a function 'remove-duplicates(my-list)' that returns a list with duplicates remove(reserving the original order).Also u should write \n",
    "# a few line of code to test a function\n",
    "\n",
    "def remove_duplicates(my_list):\n",
    "    unique_list = []\n",
    "    for item in my_list:\n",
    "        if item not in unique_list:\n",
    "            unique_list.append(item)\n",
    "    return unique_list\n",
    "\n",
    "new_list = [10,20,30,40,40]\n",
    "print(remove_duplicates(new_list))\n",
    "\n",
    "#remove_duplicates(my_list_1)\n",
    "#my_list = [10,20,30,40,40] \n",
    "\n",
    "#def remove_duplicates(my_list):\n",
    " #unique_list[]\n",
    " #new_list = set(my_list)\n",
    " #my_list = list(new_list)\n",
    " #return my_list\n",
    "#print(remove_duplicates(my_list))   \n"
   ]
  },
  {
   "cell_type": "code",
   "execution_count": 3,
   "id": "05c8bcef",
   "metadata": {},
   "outputs": [
    {
     "name": "stdout",
     "output_type": "stream",
     "text": [
      "24\n"
     ]
    }
   ],
   "source": [
    "#Q 2 Write a function factorial(n) that returns the factorial of a given number n\n",
    "\n",
    "def factorial(n):\n",
    "    num = 1\n",
    "    for i in range(1,n+1):\n",
    "        num *= i\n",
    "    return num\n",
    "print(factorial(4))"
   ]
  },
  {
   "cell_type": "code",
   "execution_count": 4,
   "id": "a0820061",
   "metadata": {},
   "outputs": [
    {
     "name": "stdout",
     "output_type": "stream",
     "text": [
      "6\n"
     ]
    }
   ],
   "source": [
    "def factorial(n): \n",
    " if n == 0 or n == 1 :\n",
    "    return 1 \n",
    " \n",
    " num_fact = 1\n",
    "\n",
    " for i in range(1, n+1):\n",
    "   num_fact *= i\n",
    " return num_fact\n",
    "\n",
    "print(factorial(3))"
   ]
  },
  {
   "cell_type": "code",
   "execution_count": 5,
   "id": "d0d84c3b",
   "metadata": {},
   "outputs": [
    {
     "name": "stdout",
     "output_type": "stream",
     "text": [
      "11\n",
      "20\n"
     ]
    },
    {
     "ename": "TypeError",
     "evalue": "add_numbers() takes from 1 to 2 positional arguments but 3 were given",
     "output_type": "error",
     "traceback": [
      "\u001b[31m---------------------------------------------------------------------------\u001b[39m",
      "\u001b[31mTypeError\u001b[39m                                 Traceback (most recent call last)",
      "\u001b[36mCell\u001b[39m\u001b[36m \u001b[39m\u001b[32mIn[5]\u001b[39m\u001b[32m, line 9\u001b[39m\n\u001b[32m      7\u001b[39m \u001b[38;5;28mprint\u001b[39m(add_numbers(\u001b[32m7\u001b[39m,\u001b[32m4\u001b[39m))\n\u001b[32m      8\u001b[39m \u001b[38;5;28mprint\u001b[39m(add_numbers(\u001b[32m12\u001b[39m)) \u001b[38;5;66;03m#a ta 12 assign karala b ta 8 assign wenawa\u001b[39;00m\n\u001b[32m----> \u001b[39m\u001b[32m9\u001b[39m \u001b[38;5;28mprint\u001b[39m(\u001b[43madd_numbers\u001b[49m\u001b[43m(\u001b[49m\u001b[32;43m9\u001b[39;49m\u001b[43m,\u001b[49m\u001b[32;43m3\u001b[39;49m\u001b[43m,\u001b[49m\u001b[32;43m7\u001b[39;49m\u001b[43m)\u001b[49m) \u001b[38;5;66;03m#parameters 3k dila na \u001b[39;00m\n\u001b[32m     10\u001b[39m \u001b[38;5;28mprint\u001b[39m(add_numbers()) \u001b[38;5;66;03m#a ta argument ekk dalath na parameters wla assign krlath na\u001b[39;00m\n\u001b[32m     11\u001b[39m \u001b[38;5;66;03m# b ta 8 assign wenawa \u001b[39;00m\n",
      "\u001b[31mTypeError\u001b[39m: add_numbers() takes from 1 to 2 positional arguments but 3 were given"
     ]
    }
   ],
   "source": [
    "###  Default arguments\n",
    "#value ekk dila nathnm parameter eke dila thiyena eka assign krla thiyenawa\n",
    "\n",
    "def add_numbers(a,b=8):\n",
    "    return a + b\n",
    "\n",
    "print(add_numbers(7,4))\n",
    "print(add_numbers(12)) #a ta 12 assign karala b ta 8 assign wenawa\n",
    "print(add_numbers(9,3,7)) #parameters 3k dila na \n",
    "print(add_numbers()) #a ta argument ekk dalath na parameters wla assign krlath na\n",
    "# b ta 8 assign wenawa "
   ]
  },
  {
   "cell_type": "code",
   "execution_count": 6,
   "id": "203a3990",
   "metadata": {},
   "outputs": [
    {
     "name": "stdout",
     "output_type": "stream",
     "text": [
      "a: 12\n",
      "b: 8\n"
     ]
    }
   ],
   "source": [
    "###### KeyWord Argument #####\n",
    "\n",
    "#key word ekk ekkama ywana nisa keyword\n",
    "#value eka maru unata mekedi aulak wenne na\n",
    "\n",
    "def add_numbers(a,b):\n",
    "    print(\"a:\",a)\n",
    "    print(\"b:\",b)\n",
    "add_numbers(b=8,a=12) #  <=== keyword arguments    "
   ]
  },
  {
   "cell_type": "code",
   "execution_count": 7,
   "id": "f2ea0e91",
   "metadata": {},
   "outputs": [
    {
     "name": "stdout",
     "output_type": "stream",
     "text": [
      "9\n"
     ]
    }
   ],
   "source": [
    "# Q 3 Write a funtion that calculate and returns a value of a number raised to a certain power.The function should accept 2 arguments, \n",
    "# the number and the exponent.If the exponent is not provided, it should calculate the square of the number.\n",
    "\n",
    "def power(num , exponent=2):\n",
    "    return num ** exponent\n",
    "\n",
    "print(power(3))"
   ]
  },
  {
   "cell_type": "code",
   "execution_count": 8,
   "id": "0fff514b",
   "metadata": {},
   "outputs": [
    {
     "name": "stdout",
     "output_type": "stream",
     "text": [
      "4500.0\n"
     ]
    }
   ],
   "source": [
    "#Q write a function that calculates the employes net salary the function should accept base salary, bonus(default to 0),and tax rate(default to 10%).\n",
    "#Demonstrate different ways of calling this function using positional and keyword arguments.\n",
    "\n",
    "def net_salary(base ,bonus = 0, tax=0.1):\n",
    "    before_tax = bonus + base\n",
    "    salary = before_tax * (1-tax)\n",
    "\n",
    "    return salary\n",
    "print(net_salary(5000))"
   ]
  },
  {
   "cell_type": "code",
   "execution_count": 9,
   "id": "b9511aaf",
   "metadata": {},
   "outputs": [
    {
     "name": "stdout",
     "output_type": "stream",
     "text": [
      "(8, 2, 3, 9) <class 'tuple'>\n",
      "8\n",
      "2\n",
      "3\n",
      "9\n",
      "(8, 2, 3, 9, 10, 11) <class 'tuple'>\n",
      "8\n",
      "2\n",
      "3\n",
      "9\n",
      "10\n",
      "11\n"
     ]
    }
   ],
   "source": [
    "##### Arbitrary Arguments\n",
    "\n",
    "# * eken kiynne function ekata dana parameters gana niyatha na ona gnak dnna pluwn\n",
    "#meka tuple ekk widiyta enne\n",
    "\n",
    "def arbitrary_args(*args):\n",
    "    print(args , type(args))\n",
    "    for arg in args:\n",
    "        print(arg)\n",
    "arbitrary_args(8,2,3,9)   #onama parametes ganak accept krnna pulwn \n",
    "arbitrary_args(8,2,3,9,10,11)\n"
   ]
  },
  {
   "cell_type": "code",
   "execution_count": 12,
   "id": "69ce5f76",
   "metadata": {},
   "outputs": [
    {
     "name": "stdout",
     "output_type": "stream",
     "text": [
      "4\n"
     ]
    }
   ],
   "source": [
    "#Q Write a function multiply_all() that accept any number of numbers and returns their products.If no numbers are provided return 1.\n",
    "\n",
    "def multiply_all(*args):\n",
    "    num = 1\n",
    "    for numbers in args:\n",
    "     num *= numbers\n",
    "    return numbers\n",
    "print(multiply_all(2, 3, 4))  # Output: 24"
   ]
  },
  {
   "cell_type": "code",
   "execution_count": 13,
   "id": "ffbb17cb",
   "metadata": {},
   "outputs": [
    {
     "name": "stdout",
     "output_type": "stream",
     "text": [
      "40\n"
     ]
    }
   ],
   "source": [
    "#Q write a function that accept any number of numbers and returns the maximum number among them.Do not use the built in max function.\n",
    "\n",
    "def maximum(*args):\n",
    "    max_number = 0\n",
    "    if not args:\n",
    "       return \"you should provide arguments\"\n",
    "    for num in args:\n",
    "        if num > max_number:\n",
    "         max_number = num\n",
    "    return max_number   \n",
    "print(maximum(10,20,30,40))    "
   ]
  },
  {
   "cell_type": "code",
   "execution_count": 14,
   "id": "a3b1eb25",
   "metadata": {},
   "outputs": [
    {
     "name": "stdout",
     "output_type": "stream",
     "text": [
      "{'name': 'dilsha', 'age': '20', 'city': 'panadura'} <class 'dict'>\n",
      "dilsha\n",
      "20\n",
      "panadura\n"
     ]
    }
   ],
   "source": [
    "###### Arbitrary Keyword Arguments (**kwargs)\n",
    "#ona tharam pramanayak keyword arguments ywanna pluwn\n",
    "\n",
    "def arbitrary_keyword_args(**kwargs):\n",
    "    print(kwargs, type(kwargs))\n",
    "    print(kwargs[\"name\"])\n",
    "    print(kwargs[\"age\"])\n",
    "    print(kwargs[\"city\"])\n",
    "\n",
    "arbitrary_keyword_args(name = \"dilsha\" , age = \"20\",city = \"panadura\")"
   ]
  },
  {
   "cell_type": "code",
   "execution_count": 15,
   "id": "3089326a",
   "metadata": {},
   "outputs": [
    {
     "name": "stdout",
     "output_type": "stream",
     "text": [
      "name\n",
      "age\n",
      "city\n",
      "dilsha\n",
      "20\n",
      "galle\n",
      "key: name value: dilsha\n",
      "key: age value: 20\n",
      "key: city value: galle\n"
     ]
    }
   ],
   "source": [
    "my_dict = {\n",
    "    \"name\": \"dilsha\",\n",
    "    \"age\": \"20\",\n",
    "    \"city\": \"galle\"\n",
    "}\n",
    "\n",
    "for key in my_dict.keys():\n",
    "    print(key)\n",
    "\n",
    "for value in my_dict.values():\n",
    "    print(value)    \n",
    "\n",
    "for key,value in my_dict.items():\n",
    "    print(\"key:\", key, \"value:\",value)    "
   ]
  },
  {
   "cell_type": "code",
   "execution_count": 16,
   "id": "a2378577",
   "metadata": {},
   "outputs": [
    {
     "name": "stdout",
     "output_type": "stream",
     "text": [
      "{'s1': 'aa', 's2': 'bb'}\n",
      "student s1 : aa\n",
      "student s2 : bb\n"
     ]
    }
   ],
   "source": [
    "#You are developing a student management system\n",
    "#Write a function add_students() with axen any number of keyword arguments whrere keys are student ids and values are student names\n",
    "#The function should store all students into a dictionary\n",
    "#Write anuther function display student vich accsept the dectionory ad trims all student ids and names in the need format\n",
    "#demostrate your functions by adding atlist 5 students using keyword arguments and then display them\n",
    "\n",
    "\n",
    "def add_students(**kwargs):\n",
    "    students = {}\n",
    "    for key,value in kwargs.items():\n",
    "        students[key] = value\n",
    "    return students\n",
    "\n",
    "def display_students(students):\n",
    "    for key,value in students.items():\n",
    "        print(f\"student {key} : {value}\")\n",
    "\n",
    "students = add_students(s1 = \"aa\" ,s2 = \"bb\")\n",
    "print(students)\n",
    "\n",
    "#display\n",
    "display_students(students)\n",
    "\n",
    "   "
   ]
  },
  {
   "cell_type": "code",
   "execution_count": 17,
   "id": "9190393a",
   "metadata": {},
   "outputs": [
    {
     "name": "stdout",
     "output_type": "stream",
     "text": [
      "10\n",
      "8\n"
     ]
    }
   ],
   "source": [
    "################## PYTHON BUILT IN FUNCTIONS ######################\n",
    "\n",
    "print(abs(-10))\n",
    "print(pow(2,3))\n",
    "\n",
    "#mokk hri function ekk iterably \n"
   ]
  },
  {
   "cell_type": "code",
   "execution_count": 18,
   "id": "29519e98",
   "metadata": {},
   "outputs": [
    {
     "name": "stdout",
     "output_type": "stream",
     "text": [
      "[50.0, 68.0, 86.0, 212.0]\n"
     ]
    }
   ],
   "source": [
    "# WRITE A PYTHON PROGRAM THAT CONVERTS A LIST OF TEMPRETURES IN CELSIUS TO FARENHIGHT\n",
    "#FOR THE CONVERSION You CAN USE THE FOLLOWINg FORMULA F=c*9/5+32\n",
    "# use the map function to perform this conversion\n",
    "# function should return a list of farenhight tempreture \n",
    "\n",
    "def celsius_to_faranhight(c):\n",
    "    return c * 9/5 + 32 \n",
    "def farenhight(celsius_list):\n",
    "    farenhight_list = map(celsius_to_faranhight,celsius_list)\n",
    "    return list(farenhight_list)\n",
    "\n",
    "celcius_tempreture = [10,20,30,100]\n",
    "farenhight_tempreture = farenhight(celcius_tempreture)\n",
    "print(farenhight_tempreture)    \n",
    "    \n",
    "\n"
   ]
  },
  {
   "cell_type": "code",
   "execution_count": 19,
   "id": "1ec062c0",
   "metadata": {},
   "outputs": [
    {
     "name": "stdout",
     "output_type": "stream",
     "text": [
      "<filter object at 0x00000174EB9EF670>\n"
     ]
    }
   ],
   "source": [
    "###### filter()\n",
    "def is_even(num):\n",
    "    return num % 2 == 0\n",
    "my_list = [4,3,8,12,5,6,9]\n",
    "even_list = filter(is_even ,my_list)\n",
    "print(even_list)"
   ]
  },
  {
   "cell_type": "code",
   "execution_count": 20,
   "id": "91e6a1ac",
   "metadata": {},
   "outputs": [
    {
     "name": "stdout",
     "output_type": "stream",
     "text": [
      "8\n"
     ]
    }
   ],
   "source": [
    "######Lambda function ###########\n",
    "# annonymous function => nmak nathi nisa\n",
    "\n",
    "#basically function ekk thani line eken liynna thiyena widiyak \n",
    "# def use krnne na namak na\n",
    "#syntax => lambda  arguments:expression \n",
    "add = lambda x,y: x+y\n",
    "result = add(3,5)\n",
    "\n",
    "\n",
    "result = (lambda x,y: x+y)(3,5)\n",
    "print(result)"
   ]
  },
  {
   "cell_type": "code",
   "execution_count": null,
   "id": "15097880",
   "metadata": {},
   "outputs": [
    {
     "name": "stdout",
     "output_type": "stream",
     "text": [
      "[12, 9, 8, 21, 30]\n",
      "[24, 18, 16, 42, 60]\n"
     ]
    }
   ],
   "source": [
    "#q given the following list ,use map with a lambda functionto create a new list where each item is double\n",
    "\n",
    "my_list = [12,9,8,21,30]\n",
    "\n",
    "double_list = list(map(lambda x: x*2 , my_list ))\n",
    "print(my_list)\n",
    "print(double_list)\n"
   ]
  },
  {
   "cell_type": "code",
   "execution_count": 25,
   "id": "25e7f690",
   "metadata": {},
   "outputs": [],
   "source": [
    "# q you are given the following list of integers \n",
    "#my_list = [12,9,8,21,30] write a python program that use the filter function with a labda function to \n",
    "# remove all odd numbers from the list \n",
    "\n",
    "my_list = [12,9,8,21,30]\n"
   ]
  },
  {
   "cell_type": "code",
   "execution_count": 26,
   "id": "f26ecbfb",
   "metadata": {},
   "outputs": [
    {
     "name": "stdout",
     "output_type": "stream",
     "text": [
      "100\n"
     ]
    }
   ],
   "source": [
    "#q write a lambda function(dont use any built in function ) to decide the maximum number between 2 numbers \n",
    "\n",
    "max_number = lambda a,b : a if a> b else b \n",
    "print(max_number(100,50))"
   ]
  }
 ],
 "metadata": {
  "kernelspec": {
   "display_name": "Python 3",
   "language": "python",
   "name": "python3"
  },
  "language_info": {
   "codemirror_mode": {
    "name": "ipython",
    "version": 3
   },
   "file_extension": ".py",
   "mimetype": "text/x-python",
   "name": "python",
   "nbconvert_exporter": "python",
   "pygments_lexer": "ipython3",
   "version": "3.13.3"
  }
 },
 "nbformat": 4,
 "nbformat_minor": 5
}
